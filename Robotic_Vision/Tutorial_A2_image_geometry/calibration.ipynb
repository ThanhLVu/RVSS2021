{
 "cells": [
  {
   "cell_type": "markdown",
   "metadata": {},
   "source": [
    "<table>\n",
    "  <tr>\n",
    "      <td><div align=\"left\"><font size=\"20\" >Camera Calibration</font></div></td>\n",
    "     <td><img src=\"images/RVSS-logo.png\" width=\"400\"></td>\n",
    "  </tr>\n",
    "</table>"
   ]
  },
  {
   "cell_type": "markdown",
   "metadata": {},
   "source": [
    "# Camera calibration"
   ]
  },
  {
   "cell_type": "markdown",
   "metadata": {},
   "source": [
    "In this notebook we are going to investigate how we can calibrate a camera to determine the camera's intrinsic and extrinsic parameters. When we calibrate a camera we take an image of a calibration rig and associate certain points/features within that image to real-world coordinates. We can then determine the camera parameters using an optimisation method, for example least-squares.  \n",
    "\n",
    "Before we dive into real-world data we are going to create a situation where we know the camera parameters, the real-world points and where these points would lie if an image was taken from a specific pose."
   ]
  },
  {
   "cell_type": "code",
   "execution_count": 1,
   "metadata": {},
   "outputs": [
    {
     "name": "stdout",
     "output_type": "stream",
     "text": [
      "Collecting machinevision-toolbox-python\n",
      "  Downloading machinevision-toolbox-python-0.5.5.tar.gz (92.2 MB)\n",
      "\u001b[K     |████████████████████████████████| 92.2 MB 32 kB/s s eta 0:00:01\n",
      "\u001b[?25hRequirement already satisfied: numpy in /home/ec2-user/anaconda3/envs/mxnet_p36/lib/python3.6/site-packages (from machinevision-toolbox-python) (1.19.4)\n",
      "Requirement already satisfied: scipy in /home/ec2-user/anaconda3/envs/mxnet_p36/lib/python3.6/site-packages (from machinevision-toolbox-python) (1.4.1)\n",
      "Requirement already satisfied: matplotlib in /home/ec2-user/anaconda3/envs/mxnet_p36/lib/python3.6/site-packages (from machinevision-toolbox-python) (3.1.3)\n",
      "Requirement already satisfied: opencv-python in /home/ec2-user/anaconda3/envs/mxnet_p36/lib/python3.6/site-packages (from machinevision-toolbox-python) (4.2.0.32)\n",
      "Collecting spatialmath-python==0.8.9\n",
      "  Downloading spatialmath-python-0.8.9.tar.gz (127 kB)\n",
      "\u001b[K     |████████████████████████████████| 127 kB 77.1 MB/s eta 0:00:01\n",
      "\u001b[?25hRequirement already satisfied: numpy in /home/ec2-user/anaconda3/envs/mxnet_p36/lib/python3.6/site-packages (from machinevision-toolbox-python) (1.19.4)\n",
      "Requirement already satisfied: scipy in /home/ec2-user/anaconda3/envs/mxnet_p36/lib/python3.6/site-packages (from machinevision-toolbox-python) (1.4.1)\n",
      "Requirement already satisfied: matplotlib in /home/ec2-user/anaconda3/envs/mxnet_p36/lib/python3.6/site-packages (from machinevision-toolbox-python) (3.1.3)\n",
      "Collecting ansitable\n",
      "  Downloading ansitable-0.9.5.tar.gz (16 kB)\n",
      "Collecting colored\n",
      "  Downloading colored-1.4.2.tar.gz (56 kB)\n",
      "\u001b[K     |████████████████████████████████| 56 kB 813 kB/s  eta 0:00:01\n",
      "\u001b[?25hRequirement already satisfied: numpy in /home/ec2-user/anaconda3/envs/mxnet_p36/lib/python3.6/site-packages (from machinevision-toolbox-python) (1.19.4)\n",
      "Requirement already satisfied: python-dateutil>=2.1 in /home/ec2-user/anaconda3/envs/mxnet_p36/lib/python3.6/site-packages (from matplotlib->machinevision-toolbox-python) (2.8.1)\n",
      "Requirement already satisfied: kiwisolver>=1.0.1 in /home/ec2-user/anaconda3/envs/mxnet_p36/lib/python3.6/site-packages (from matplotlib->machinevision-toolbox-python) (1.1.0)\n",
      "Requirement already satisfied: cycler>=0.10 in /home/ec2-user/anaconda3/envs/mxnet_p36/lib/python3.6/site-packages (from matplotlib->machinevision-toolbox-python) (0.10.0)\n",
      "Requirement already satisfied: pyparsing!=2.0.4,!=2.1.2,!=2.1.6,>=2.0.1 in /home/ec2-user/anaconda3/envs/mxnet_p36/lib/python3.6/site-packages (from matplotlib->machinevision-toolbox-python) (2.4.7)\n",
      "Requirement already satisfied: six in /home/ec2-user/anaconda3/envs/mxnet_p36/lib/python3.6/site-packages (from cycler>=0.10->matplotlib->machinevision-toolbox-python) (1.15.0)\n",
      "Requirement already satisfied: setuptools in /home/ec2-user/anaconda3/envs/mxnet_p36/lib/python3.6/site-packages (from kiwisolver>=1.0.1->matplotlib->machinevision-toolbox-python) (45.2.0.post20200210)\n",
      "Requirement already satisfied: numpy in /home/ec2-user/anaconda3/envs/mxnet_p36/lib/python3.6/site-packages (from machinevision-toolbox-python) (1.19.4)\n",
      "Requirement already satisfied: six in /home/ec2-user/anaconda3/envs/mxnet_p36/lib/python3.6/site-packages (from cycler>=0.10->matplotlib->machinevision-toolbox-python) (1.15.0)\n",
      "Requirement already satisfied: numpy in /home/ec2-user/anaconda3/envs/mxnet_p36/lib/python3.6/site-packages (from machinevision-toolbox-python) (1.19.4)\n",
      "Building wheels for collected packages: machinevision-toolbox-python, spatialmath-python, ansitable, colored\n",
      "  Building wheel for machinevision-toolbox-python (setup.py) ... \u001b[?25ldone\n",
      "\u001b[?25h  Created wheel for machinevision-toolbox-python: filename=machinevision_toolbox_python-0.5.5-py3-none-any.whl size=92174725 sha256=632d60ef435d890333fe3c2e3874a79f8b136fe508169d27a24ce0acd0343be1\n",
      "  Stored in directory: /home/ec2-user/.cache/pip/wheels/89/cb/25/be610bb1fd0c04e21a5ea0de2463b8c5c788f3b9e46a2fea0e\n",
      "  Building wheel for spatialmath-python (setup.py) ... \u001b[?25ldone\n",
      "\u001b[?25h  Created wheel for spatialmath-python: filename=spatialmath_python-0.8.9-py3-none-any.whl size=138273 sha256=698de4890577df2986e488205a4a91ab4bafbb3e73fc539bcee63b9ce6d9bf30\n",
      "  Stored in directory: /home/ec2-user/.cache/pip/wheels/0d/42/c7/c377b6a411f14a016ece6730d944d25b522cedfe088be62e3a\n",
      "  Building wheel for ansitable (setup.py) ... \u001b[?25ldone\n",
      "\u001b[?25h  Created wheel for ansitable: filename=ansitable-0.9.5-py3-none-any.whl size=12174 sha256=c8525aef7b3c60e4f69dc57c966b5c41ec35b448c3f51c52463b377bd8b0033e\n",
      "  Stored in directory: /home/ec2-user/.cache/pip/wheels/8a/9f/e2/f14bf0f6f3f68e03cb8c11023a9ac5184cb19070124ec1a76c\n",
      "  Building wheel for colored (setup.py) ... \u001b[?25ldone\n",
      "\u001b[?25h  Created wheel for colored: filename=colored-1.4.2-py3-none-any.whl size=14002 sha256=1cc407138cda58eb882a902e7168268b94b1c7a9984b6127398847ffcbbcbba9\n",
      "  Stored in directory: /home/ec2-user/.cache/pip/wheels/b7/be/ae/a98f7701429c3cfcebf4d2b537e48a1571549a4d8b55463a01\n",
      "Successfully built machinevision-toolbox-python spatialmath-python ansitable colored\n",
      "Installing collected packages: colored, ansitable, spatialmath-python, machinevision-toolbox-python\n",
      "Successfully installed ansitable-0.9.5 colored-1.4.2 machinevision-toolbox-python-0.5.5 spatialmath-python-0.8.9\n",
      "\u001b[33mWARNING: You are using pip version 20.3; however, version 21.0.1 is available.\n",
      "You should consider upgrading via the '/home/ec2-user/anaconda3/envs/mxnet_p36/bin/python -m pip install --upgrade pip' command.\u001b[0m\n"
     ]
    }
   ],
   "source": [
    "%matplotlib notebook\n",
    "import sys\n",
    "!{sys.executable} -m pip install machinevision-toolbox-python spatialmath-python==0.8.9 # install MVTB and spatialmath\n",
    "\n",
    "import matplotlib\n",
    "import ipywidgets as wdg\n",
    "\n",
    "from machinevisiontoolbox import Image, CentralCamera\n",
    "import matplotlib.pyplot as plt\n",
    "import numpy as np\n",
    "from spatialmath import SE3, SO3\n",
    "from spatialmath import base\n",
    "\n",
    "from camera_calib_helpers import CreateSimulatedCamera\n",
    "\n",
    "np.set_printoptions(linewidth=120, formatter={'float': lambda x: f\"{x:8.4g}\" if abs(x) > 1e-10 else f\"{0:8.4g}\"})\n",
    "\n"
   ]
  },
  {
   "cell_type": "markdown",
   "metadata": {},
   "source": [
    "# Calibration Rig\n",
    "\n",
    "RVSS2021 will be using the following calibration rig which consists of 12 dots forming three 6cm squares on three planes. We will store the real-world 3D coordinates that reflect the markers on the calibration target in the matrix `P_calib`. We will be using `P_calib` throughout this coding session.\n",
    "\n",
    "![calibration](images/calibration-fixture.png)"
   ]
  },
  {
   "cell_type": "code",
   "execution_count": 2,
   "metadata": {},
   "outputs": [],
   "source": [
    "cm = 0.01 # centimetre to metre conversion factor\n",
    "\n",
    "P_calib = np.array([\n",
    "    [ 0,  -12.2, 12.2],\n",
    "    [ 0,   -6.2, 12.2],\n",
    "    [ 0,  -12.2,  6.2],\n",
    "    [ 0,   -6.2,  6.2],\n",
    "    [ 6.2,  0,   12.2],\n",
    "    [12.2,  0,   12.2],\n",
    "    [ 6.2,  0,    6.2],\n",
    "    [12.2,  0,    6.2]\n",
    "]).T * cm"
   ]
  },
  {
   "cell_type": "markdown",
   "metadata": {},
   "source": [
    "# Calibrating A Simulated Camera\n",
    "\n",
    "## Simulate a Camera\n",
    "\n",
    "First, we will simulate a black box camera. While we know the pose and chateristics of this camera (you can check them out in the `CreateSimulatedCamera` function, but we will assume we do not and see if we can find the camera extrinsic and intrinsic parameters ourself using simulated calibration data.\n"
   ]
  },
  {
   "cell_type": "code",
   "execution_count": 3,
   "metadata": {},
   "outputs": [
    {
     "name": "stdout",
     "output_type": "stream",
     "text": [
      "principal point not specified,                    setting it to centre of image plane\n"
     ]
    }
   ],
   "source": [
    "unknown_camera = CreateSimulatedCamera()"
   ]
  },
  {
   "cell_type": "markdown",
   "metadata": {},
   "source": [
    "The object `unknown_camera` is a model of the camera and was computed using the `CreateCameraModel` function in the `camera_calib_helpers.py` script. For now we will pretend we don't know it's characteristics, and that its pose is unknown with respect to the calibration target.\n",
    "\n",
    "However **we do know** the world coordinates of the markers.\n",
    "\n",
    "We can create an \"artificial\" image of the 3D points by projecting these points onto the 2D image plane within our simulated camera, by using the code below. *We can only do this because we know camera characteristics, as well as the pose of the camera and the locations of the 3D points with respect to the world frame.*"
   ]
  },
  {
   "cell_type": "code",
   "execution_count": 1,
   "metadata": {},
   "outputs": [
    {
     "ename": "NameError",
     "evalue": "name 'unknown_camera' is not defined",
     "output_type": "error",
     "traceback": [
      "\u001b[0;31m---------------------------------------------------------------------------\u001b[0m",
      "\u001b[0;31mNameError\u001b[0m                                 Traceback (most recent call last)",
      "\u001b[0;32m<ipython-input-1-6c19dfe81e0c>\u001b[0m in \u001b[0;36m<module>\u001b[0;34m\u001b[0m\n\u001b[0;32m----> 1\u001b[0;31m \u001b[0munknown_camera\u001b[0m\u001b[0;34m.\u001b[0m\u001b[0mplot\u001b[0m\u001b[0;34m(\u001b[0m\u001b[0mP_calib\u001b[0m\u001b[0;34m)\u001b[0m\u001b[0;34m\u001b[0m\u001b[0;34m\u001b[0m\u001b[0m\n\u001b[0m",
      "\u001b[0;31mNameError\u001b[0m: name 'unknown_camera' is not defined"
     ]
    }
   ],
   "source": [
    "unknown_camera.plot(P_calib)"
   ]
  },
  {
   "cell_type": "markdown",
   "metadata": {},
   "source": [
    "Projecting the 3D coordinates of the calibration target markers onto the  into 2D image plane coordinates using the camera object's `project` method"
   ]
  },
  {
   "cell_type": "code",
   "execution_count": null,
   "metadata": {},
   "outputs": [],
   "source": [
    "p = unknown_camera.project(P_calib)\n",
    "print(p)"
   ]
  },
  {
   "cell_type": "markdown",
   "metadata": {},
   "source": [
    "Of course, with real camera calibration these 2D coordinates must be obtained by taking an image and finding the coordinates of the points in the captured image. We will be using a real-image later."
   ]
  },
  {
   "cell_type": "markdown",
   "metadata": {},
   "source": [
    "## Compute the Camera Matrix \n",
    "\n",
    "We can noe compute the camera calibration from the calibration data, the real-world coordinates `P_calib` and the 2D image coordinates `p`.\n",
    "\n",
    " * `P_calib`, is an array of 3D points which is a $3 \\times N$ matrix, one point per column (which would be found by measuring the points in the real-world)\n",
    " * `p`, is an array of 2D points which is a $2 \\times N$ matrix, one point per column (which would be found in the captured image)\n",
    "    \n",
    "Importantly, the points correspond, that is the $i^{th}$ column of `p` is the projection of the 3D point in the $i^{th}$ column of `P_calib`.\n",
    "\n",
    "The camera matrix $C$ can be computed by"
   ]
  },
  {
   "cell_type": "code",
   "execution_count": null,
   "metadata": {},
   "outputs": [],
   "source": [
    "C = CentralCamera.camcal(P_calib, p)"
   ]
  },
  {
   "cell_type": "markdown",
   "metadata": {},
   "source": [
    "the small residual is an encouraging sign, it indicates that the data is a good fit to the projection model of a perspective camera. *This is to expected in this case as we found `p` by projecting the 3D points using our artificial camera model*\n",
    "\n",
    "The value of the camera matrix is"
   ]
  },
  {
   "cell_type": "code",
   "execution_count": null,
   "metadata": {},
   "outputs": [],
   "source": [
    "C"
   ]
  },
  {
   "cell_type": "markdown",
   "metadata": {},
   "source": [
    "The intrinsic and extrinsic parameters of the camera are jumbled up in these 12 numbers, but we can unjumble them"
   ]
  },
  {
   "cell_type": "code",
   "execution_count": null,
   "metadata": {},
   "outputs": [],
   "source": [
    "camera = CentralCamera.invcamcal(C)\n",
    "print(camera)"
   ]
  },
  {
   "cell_type": "markdown",
   "metadata": {},
   "source": [
    "The intrinsic and extrinsic parameters have been encapsulated in a toolbox `CentralCamera` object.\n",
    "\n",
    "**Note:** When computing the camera matrix the focal length and the pixel dimensions are multiplied together, so it's not possible to determine them individually.  This function assumes that the pixel dimension is 1 and the focal length has units of pixels rather than metres (hence the large values)."
   ]
  },
  {
   "cell_type": "markdown",
   "metadata": {},
   "source": [
    "The intrinsic parameters are"
   ]
  },
  {
   "cell_type": "code",
   "execution_count": null,
   "metadata": {},
   "outputs": [],
   "source": [
    "camera.K"
   ]
  },
  {
   "cell_type": "markdown",
   "metadata": {},
   "source": [
    "Notice that the values in the top left are half image width and height we specified and that focal length (1500) is a factor of the length we provided into the `CreateSimulatedCamera` function. Naturally, because we are passing in exact data then getting back exact values is to be expected.\n",
    "\n",
    "The extrinsic parameters, the pose, of the camera with respect to the world calibration frame, is"
   ]
  },
  {
   "cell_type": "code",
   "execution_count": null,
   "metadata": {},
   "outputs": [],
   "source": [
    "Tcam = camera.pose\n",
    "print(Tcam)"
   ]
  },
  {
   "cell_type": "markdown",
   "metadata": {},
   "source": [
    "This indicates the position of the camera is (1, -1) on the ground plane, and slightly above the ground (z=0.1).\n",
    "\n",
    "The orientation of the camera can be extracted from its SE(3) pose "
   ]
  },
  {
   "cell_type": "code",
   "execution_count": null,
   "metadata": {},
   "outputs": [],
   "source": [
    "rpy = Tcam.rpy(order='zyx', unit='deg')\n",
    "rpy"
   ]
  },
  {
   "cell_type": "markdown",
   "metadata": {},
   "source": [
    "which indicates the orientation of the camera can be described by three consecutive rotations, in the following order:\n",
    "\n",
    "1. a rotation of 50° about the z-axis, which points the camera toward the calibration target\n",
    "2. a rotation of 2° about the y-axis, which indicates some imperfection, a small twist about the camera axis\n",
    "3. a rotation of -92° about the x-axis, which makes the camera's z-axis (it's line of sight) approximately parallel to the ground plane, again some imperfection so the camera is actually pointing slightly toward the floor.\n",
    "\n",
    "That is all that is required to determine the camera charateristics. You simply need two sets of points, one from the real-world and one with the corresponding 2D image coordinates, you need at least 6 corresponding points.\n",
    "\n",
    "You can choose to peek at the \"unknown\" camera model in `CreateCameraModel.py` and see that the parameters we have estimated simply from 3D and 2D data points matches the parameters of that camera.\n"
   ]
  },
  {
   "cell_type": "markdown",
   "metadata": {},
   "source": [
    "## Mapping Ground Plane Coordinates to the Image Plane\n",
    "\n",
    "The extrinsic parameters indicate where the camera is with respect to the world frame. For our project we want to know the coordinate of a point on the ground relative to the camera which is mounted on a robot moving across a ground plane. We define a pair of coordinates frames as per this diagram\n",
    "\n",
    "![frames](images/coordinate-frames.png)"
   ]
  },
  {
   "cell_type": "markdown",
   "metadata": {},
   "source": [
    "The robot frame {R} is attached to the robot with its x-axis to the right, y-axis forward and z-axis upward. This frame sits on the ground plane, as does the world-coordinate frame we used for calibration (shown in the first figure in this notebook).\n",
    "\n",
    "The camera frame {C} is attached to the camera and has its x-axis to the right, y-axis downwards and z-axis (line of sight) forward.\n",
    "\n",
    "The relative pose of frame {C} with respect to frame {R} has two components: a translation $t$ and a rotation $\\mathbf{R}$.\n",
    "\n",
    "The translation is purely in the z-direction, and our calibration process gave us the height of the camera above the ground.  Therefore"
   ]
  },
  {
   "cell_type": "code",
   "execution_count": null,
   "metadata": {},
   "outputs": [],
   "source": [
    "t = [0, 0, Tcam.t[2]] # Tcam.t[2] is the position of the camera in the world frame z-axis\n",
    "t"
   ]
  },
  {
   "cell_type": "markdown",
   "metadata": {},
   "source": [
    "To rotate the z-axis from upwards (frame {R}) to forwards (in frame {C}) is a rotation of -90° about the x-axis.  However our camera calibration indicated the angle was slightly different to that, -92° in fact.  There is also a slight rotation about the y-axis of 2°.  We will assume that there is no error in the rotation about the z-axis (there is actually no way to identity if there was).  \n",
    "\n",
    "Therefore the orientation of the camera frame {C} relative to the robot frame {R} is"
   ]
  },
  {
   "cell_type": "code",
   "execution_count": null,
   "metadata": {},
   "outputs": [],
   "source": [
    "R = SO3.Ry(rpy[1], 'deg') * SO3.Rx(rpy[0], 'deg')\n",
    "R"
   ]
  },
  {
   "cell_type": "markdown",
   "metadata": {},
   "source": [
    "Now we can combine the translation and rotation into a single homogeneous transformation"
   ]
  },
  {
   "cell_type": "code",
   "execution_count": null,
   "metadata": {},
   "outputs": [],
   "source": [
    "T = SE3(t) * SE3.SO3(R)\n",
    "print(T)"
   ]
  },
  {
   "cell_type": "markdown",
   "metadata": {},
   "source": [
    "Both `SO3` and `SE3` are classes defined in [Spatial Maths for Python](https://github.com/petercorke/spatialmath-python) and encapsulate the functionality that Tom introduced in B1 on Monday.\n",
    "\n",
    "The camera model that was estimated from the camera matrix has valid intrinsic parameters but we want to change the  extrinsics.  Now we care about where the camera is with respect to {R} not where it is with respect to the calibration frame, so we will override the extrinsics"
   ]
  },
  {
   "cell_type": "code",
   "execution_count": null,
   "metadata": {},
   "outputs": [],
   "source": [
    "rpy = Tcam.rpy(order='zyx', unit='deg')\n",
    "rpy[2] = 0  # set the yaw component to zero\n",
    "T = SE3(t) * SE3.RPY(rpy, order='zyx', unit='deg')\n",
    "print(T)"
   ]
  },
  {
   "cell_type": "code",
   "execution_count": 14,
   "metadata": {},
   "outputs": [
    {
     "data": {
      "text/plain": [
       "array([[    1498,    639.6,   -74.67,   0.7467],\n",
       "       [  -52.94,    459.3,    -1516,    15.16],\n",
       "       [-0.001218,   0.9994, -0.03488, 0.0003488]])"
      ]
     },
     "execution_count": 14,
     "metadata": {},
     "output_type": "execute_result"
    }
   ],
   "source": [
    "camera.pose = T\n",
    "print(camera)"
   ]
  },
  {
   "cell_type": "markdown",
   "metadata": {},
   "source": [
    "We can use this model to investigate how world points are mapped to the image plane.\n",
    "\n",
    "Points on the ground 0.5m and 0.6m in front of the camera appear at the following locations on the image plane"
   ]
  },
  {
   "cell_type": "code",
   "execution_count": 15,
   "metadata": {},
   "outputs": [
    {
     "data": {
      "text/plain": [
       "array([[     641,    640.9],\n",
       "       [   489.6,    484.6]])"
      ]
     },
     "execution_count": 15,
     "metadata": {},
     "output_type": "execute_result"
    }
   ],
   "source": [
    "P = np.array([[0, 0.4, 0], [0, 0.6, 0]]).T\n",
    "camera.project(P)"
   ]
  },
  {
   "cell_type": "markdown",
   "metadata": {},
   "source": [
    "The second column corresponds to the point that is further from the camera and it is ~13 pixels higher in the image.\n",
    "\n",
    "We note that the u-coordinate of both points is close to the u-coordinate of the principal point (640), the centre of the image, which indicates that the world point is close to the optical axis (as the x-coordinate of 0 would indicate).  Remember that the camera is slightly skewed with respect to the robot frame.\n",
    "\n",
    "The camera matrix, that encodes the intrinsic and extrinsic parameters of the camera, is now"
   ]
  },
  {
   "cell_type": "code",
   "execution_count": null,
   "metadata": {},
   "outputs": [],
   "source": [
    "camera.C"
   ]
  },
  {
   "cell_type": "markdown",
   "metadata": {},
   "source": [
    "## Mapping image plane coordinates to the ground plane\n",
    "\n",
    "In the previous section we intuitively worked through how we can map ground points into the image plane. Now we will see how can we do the opposite, but we will take a more principled approach. \n",
    "\n",
    "Points on the ground plane have a z-coordinate of zero.  The camera projection equation, in matrix form, is\n",
    "$$\n",
    "\\tilde{p} = \\begin{pmatrix} c_1 & c_2 & c_3  & c_4 \\end{pmatrix} \\begin{pmatrix} X \\\\ Y \\\\ Z \\\\ 1 \\end{pmatrix}\n",
    "$$\n",
    "where $c_i$ is the $i^{th}$ column of the camera matrix.  Since $Z=0$ we can rewrite as \n",
    "\n",
    "\\begin{align}\n",
    "\\tilde{p} & = \\begin{pmatrix} c_1 & c_2 & c_4 \\end{pmatrix} \\begin{pmatrix} X \\\\ Y \\\\ 1 \\end{pmatrix} \\\\\n",
    "          & = \\mathbf{H} \\begin{pmatrix} X \\\\ Y \\\\ 1 \\end{pmatrix}\n",
    "\\end{align}\n",
    "where $(X, Y)$ is a point on the ground plane with respect to the camera frame which has the Y-axis forward and the X-axis to the right.\n",
    "\n",
    "In this case $\\mathbf{H}$ is"
   ]
  },
  {
   "cell_type": "code",
   "execution_count": 16,
   "metadata": {},
   "outputs": [
    {
     "data": {
      "text/plain": [
       "array([[    1498,    639.6,   0.7467],\n",
       "       [  -52.94,    459.3,    15.16],\n",
       "       [-0.001218,   0.9994, 0.0003488]])"
      ]
     },
     "execution_count": 16,
     "metadata": {},
     "output_type": "execute_result"
    }
   ],
   "source": [
    "H = camera.C[:,[0,1,3]]\n",
    "H"
   ]
  },
  {
   "cell_type": "markdown",
   "metadata": {},
   "source": [
    "which is both square and non-singular"
   ]
  },
  {
   "cell_type": "code",
   "execution_count": 17,
   "metadata": {},
   "outputs": [
    {
     "data": {
      "text/plain": [
       "-22499.999999865217"
      ]
     },
     "execution_count": 17,
     "metadata": {},
     "output_type": "execute_result"
    }
   ],
   "source": [
    "np.linalg.det(H)"
   ]
  },
  {
   "cell_type": "markdown",
   "metadata": {},
   "source": [
    "which means we have an invertible mapping between 2D points in the image plane and 2D points on the ground plane, both expressed in homogenous form.  Such a transformation is called an *homography*.\n",
    "\n",
    "**Note that in general we cannot map a 2D point to a 3D point, since a 2D image plane coordinate corresponds to a ray in space -- an infinite number of points.  However the constraint that the point lies on the ground plane makes a unique solution possible, it is the point where that ray intersects the ground plane.**\n",
    "\n",
    "Consider a point in the image plane at $(300, 600)$"
   ]
  },
  {
   "cell_type": "code",
   "execution_count": 18,
   "metadata": {},
   "outputs": [
    {
     "name": "stdout",
     "output_type": "stream",
     "text": [
      "[-0.02686   0.1166]\n"
     ]
    }
   ],
   "source": [
    "p = (300, 600)  # make homogeneous\n",
    "P_groundplane = base.h2e(np.linalg.inv(H) @ base.e2h(p))\n",
    "print(P)"
   ]
  },
  {
   "cell_type": "markdown",
   "metadata": {},
   "source": [
    "and this is corresponding point coordinate on the ground plane. x=-0.027 indicates it is to the left of the robot, and y=0.117 indicates it is in-front of the robot.\n",
    "\n",
    "We can cross check this by reprojecting that world point back to the image plane using our camera model"
   ]
  },
  {
   "cell_type": "code",
   "execution_count": null,
   "metadata": {},
   "outputs": [],
   "source": [
    "P = np.vstack((P_groundplane, 0))  # point is on the ground, add Z=0\n",
    "print(P)\n",
    "camera.project(P)"
   ]
  },
  {
   "cell_type": "code",
   "execution_count": null,
   "metadata": {},
   "outputs": [],
   "source": [
    "point = np.r_[P, 0]\n",
    "\n",
    "# appears to be bug in MVTB toolbox cannot pass in a (3,) or (3,1) array for camera.project\n",
    "# so we will simply create a copy of the point to make it a (3x2)\n",
    "pts = np.repeat(point.reshape((3,1)), 2, axis=1) \n",
    "camera.project(pts)"
   ]
  },
  {
   "cell_type": "markdown",
   "metadata": {},
   "source": [
    "and we obtain, as we should do, the image plane coordinate that we started with.\n",
    "\n",
    "## Summary\n",
    "\n",
    "1. Using corresponding 3D and 2D data we can estimate a camera matrix.\n",
    "2. We can untangle the elements of that matrix into intrinsic and extrinsic parameters.\n",
    "3. We use an estimated camera model to form an homography which maps between image plane and ground plane."
   ]
  },
  {
   "cell_type": "markdown",
   "metadata": {},
   "source": [
    "# Your turn!"
   ]
  },
  {
   "cell_type": "markdown",
   "metadata": {},
   "source": [
    "Now you get to apply what you've learned above using a real image of a calibration target. The next section of code will display an image and a text widget showing an $8 \\times 2$ array. \n",
    "\n",
    "You will need to:\n",
    "\n",
    "1. click the centre of each point as accurately as you can, in the order given by the diagram at the top of this notebook.\n",
    "2. If you make a mistake, do a right-click and will undo the last point you clicked (and remove the marker)\n",
    "\n",
    "Once you are happy with the points you selected, move onto the next set of code."
   ]
  },
  {
   "cell_type": "code",
   "execution_count": 4,
   "metadata": {},
   "outputs": [
    {
     "data": {
      "application/javascript": [
       "/* Put everything inside the global mpl namespace */\n",
       "window.mpl = {};\n",
       "\n",
       "\n",
       "mpl.get_websocket_type = function() {\n",
       "    if (typeof(WebSocket) !== 'undefined') {\n",
       "        return WebSocket;\n",
       "    } else if (typeof(MozWebSocket) !== 'undefined') {\n",
       "        return MozWebSocket;\n",
       "    } else {\n",
       "        alert('Your browser does not have WebSocket support. ' +\n",
       "              'Please try Chrome, Safari or Firefox ≥ 6. ' +\n",
       "              'Firefox 4 and 5 are also supported but you ' +\n",
       "              'have to enable WebSockets in about:config.');\n",
       "    };\n",
       "}\n",
       "\n",
       "mpl.figure = function(figure_id, websocket, ondownload, parent_element) {\n",
       "    this.id = figure_id;\n",
       "\n",
       "    this.ws = websocket;\n",
       "\n",
       "    this.supports_binary = (this.ws.binaryType != undefined);\n",
       "\n",
       "    if (!this.supports_binary) {\n",
       "        var warnings = document.getElementById(\"mpl-warnings\");\n",
       "        if (warnings) {\n",
       "            warnings.style.display = 'block';\n",
       "            warnings.textContent = (\n",
       "                \"This browser does not support binary websocket messages. \" +\n",
       "                    \"Performance may be slow.\");\n",
       "        }\n",
       "    }\n",
       "\n",
       "    this.imageObj = new Image();\n",
       "\n",
       "    this.context = undefined;\n",
       "    this.message = undefined;\n",
       "    this.canvas = undefined;\n",
       "    this.rubberband_canvas = undefined;\n",
       "    this.rubberband_context = undefined;\n",
       "    this.format_dropdown = undefined;\n",
       "\n",
       "    this.image_mode = 'full';\n",
       "\n",
       "    this.root = $('<div/>');\n",
       "    this._root_extra_style(this.root)\n",
       "    this.root.attr('style', 'display: inline-block');\n",
       "\n",
       "    $(parent_element).append(this.root);\n",
       "\n",
       "    this._init_header(this);\n",
       "    this._init_canvas(this);\n",
       "    this._init_toolbar(this);\n",
       "\n",
       "    var fig = this;\n",
       "\n",
       "    this.waiting = false;\n",
       "\n",
       "    this.ws.onopen =  function () {\n",
       "            fig.send_message(\"supports_binary\", {value: fig.supports_binary});\n",
       "            fig.send_message(\"send_image_mode\", {});\n",
       "            if (mpl.ratio != 1) {\n",
       "                fig.send_message(\"set_dpi_ratio\", {'dpi_ratio': mpl.ratio});\n",
       "            }\n",
       "            fig.send_message(\"refresh\", {});\n",
       "        }\n",
       "\n",
       "    this.imageObj.onload = function() {\n",
       "            if (fig.image_mode == 'full') {\n",
       "                // Full images could contain transparency (where diff images\n",
       "                // almost always do), so we need to clear the canvas so that\n",
       "                // there is no ghosting.\n",
       "                fig.context.clearRect(0, 0, fig.canvas.width, fig.canvas.height);\n",
       "            }\n",
       "            fig.context.drawImage(fig.imageObj, 0, 0);\n",
       "        };\n",
       "\n",
       "    this.imageObj.onunload = function() {\n",
       "        fig.ws.close();\n",
       "    }\n",
       "\n",
       "    this.ws.onmessage = this._make_on_message_function(this);\n",
       "\n",
       "    this.ondownload = ondownload;\n",
       "}\n",
       "\n",
       "mpl.figure.prototype._init_header = function() {\n",
       "    var titlebar = $(\n",
       "        '<div class=\"ui-dialog-titlebar ui-widget-header ui-corner-all ' +\n",
       "        'ui-helper-clearfix\"/>');\n",
       "    var titletext = $(\n",
       "        '<div class=\"ui-dialog-title\" style=\"width: 100%; ' +\n",
       "        'text-align: center; padding: 3px;\"/>');\n",
       "    titlebar.append(titletext)\n",
       "    this.root.append(titlebar);\n",
       "    this.header = titletext[0];\n",
       "}\n",
       "\n",
       "\n",
       "\n",
       "mpl.figure.prototype._canvas_extra_style = function(canvas_div) {\n",
       "\n",
       "}\n",
       "\n",
       "\n",
       "mpl.figure.prototype._root_extra_style = function(canvas_div) {\n",
       "\n",
       "}\n",
       "\n",
       "mpl.figure.prototype._init_canvas = function() {\n",
       "    var fig = this;\n",
       "\n",
       "    var canvas_div = $('<div/>');\n",
       "\n",
       "    canvas_div.attr('style', 'position: relative; clear: both; outline: 0');\n",
       "\n",
       "    function canvas_keyboard_event(event) {\n",
       "        return fig.key_event(event, event['data']);\n",
       "    }\n",
       "\n",
       "    canvas_div.keydown('key_press', canvas_keyboard_event);\n",
       "    canvas_div.keyup('key_release', canvas_keyboard_event);\n",
       "    this.canvas_div = canvas_div\n",
       "    this._canvas_extra_style(canvas_div)\n",
       "    this.root.append(canvas_div);\n",
       "\n",
       "    var canvas = $('<canvas/>');\n",
       "    canvas.addClass('mpl-canvas');\n",
       "    canvas.attr('style', \"left: 0; top: 0; z-index: 0; outline: 0\")\n",
       "\n",
       "    this.canvas = canvas[0];\n",
       "    this.context = canvas[0].getContext(\"2d\");\n",
       "\n",
       "    var backingStore = this.context.backingStorePixelRatio ||\n",
       "\tthis.context.webkitBackingStorePixelRatio ||\n",
       "\tthis.context.mozBackingStorePixelRatio ||\n",
       "\tthis.context.msBackingStorePixelRatio ||\n",
       "\tthis.context.oBackingStorePixelRatio ||\n",
       "\tthis.context.backingStorePixelRatio || 1;\n",
       "\n",
       "    mpl.ratio = (window.devicePixelRatio || 1) / backingStore;\n",
       "\n",
       "    var rubberband = $('<canvas/>');\n",
       "    rubberband.attr('style', \"position: absolute; left: 0; top: 0; z-index: 1;\")\n",
       "\n",
       "    var pass_mouse_events = true;\n",
       "\n",
       "    canvas_div.resizable({\n",
       "        start: function(event, ui) {\n",
       "            pass_mouse_events = false;\n",
       "        },\n",
       "        resize: function(event, ui) {\n",
       "            fig.request_resize(ui.size.width, ui.size.height);\n",
       "        },\n",
       "        stop: function(event, ui) {\n",
       "            pass_mouse_events = true;\n",
       "            fig.request_resize(ui.size.width, ui.size.height);\n",
       "        },\n",
       "    });\n",
       "\n",
       "    function mouse_event_fn(event) {\n",
       "        if (pass_mouse_events)\n",
       "            return fig.mouse_event(event, event['data']);\n",
       "    }\n",
       "\n",
       "    rubberband.mousedown('button_press', mouse_event_fn);\n",
       "    rubberband.mouseup('button_release', mouse_event_fn);\n",
       "    // Throttle sequential mouse events to 1 every 20ms.\n",
       "    rubberband.mousemove('motion_notify', mouse_event_fn);\n",
       "\n",
       "    rubberband.mouseenter('figure_enter', mouse_event_fn);\n",
       "    rubberband.mouseleave('figure_leave', mouse_event_fn);\n",
       "\n",
       "    canvas_div.on(\"wheel\", function (event) {\n",
       "        event = event.originalEvent;\n",
       "        event['data'] = 'scroll'\n",
       "        if (event.deltaY < 0) {\n",
       "            event.step = 1;\n",
       "        } else {\n",
       "            event.step = -1;\n",
       "        }\n",
       "        mouse_event_fn(event);\n",
       "    });\n",
       "\n",
       "    canvas_div.append(canvas);\n",
       "    canvas_div.append(rubberband);\n",
       "\n",
       "    this.rubberband = rubberband;\n",
       "    this.rubberband_canvas = rubberband[0];\n",
       "    this.rubberband_context = rubberband[0].getContext(\"2d\");\n",
       "    this.rubberband_context.strokeStyle = \"#000000\";\n",
       "\n",
       "    this._resize_canvas = function(width, height) {\n",
       "        // Keep the size of the canvas, canvas container, and rubber band\n",
       "        // canvas in synch.\n",
       "        canvas_div.css('width', width)\n",
       "        canvas_div.css('height', height)\n",
       "\n",
       "        canvas.attr('width', width * mpl.ratio);\n",
       "        canvas.attr('height', height * mpl.ratio);\n",
       "        canvas.attr('style', 'width: ' + width + 'px; height: ' + height + 'px;');\n",
       "\n",
       "        rubberband.attr('width', width);\n",
       "        rubberband.attr('height', height);\n",
       "    }\n",
       "\n",
       "    // Set the figure to an initial 600x600px, this will subsequently be updated\n",
       "    // upon first draw.\n",
       "    this._resize_canvas(600, 600);\n",
       "\n",
       "    // Disable right mouse context menu.\n",
       "    $(this.rubberband_canvas).bind(\"contextmenu\",function(e){\n",
       "        return false;\n",
       "    });\n",
       "\n",
       "    function set_focus () {\n",
       "        canvas.focus();\n",
       "        canvas_div.focus();\n",
       "    }\n",
       "\n",
       "    window.setTimeout(set_focus, 100);\n",
       "}\n",
       "\n",
       "mpl.figure.prototype._init_toolbar = function() {\n",
       "    var fig = this;\n",
       "\n",
       "    var nav_element = $('<div/>');\n",
       "    nav_element.attr('style', 'width: 100%');\n",
       "    this.root.append(nav_element);\n",
       "\n",
       "    // Define a callback function for later on.\n",
       "    function toolbar_event(event) {\n",
       "        return fig.toolbar_button_onclick(event['data']);\n",
       "    }\n",
       "    function toolbar_mouse_event(event) {\n",
       "        return fig.toolbar_button_onmouseover(event['data']);\n",
       "    }\n",
       "\n",
       "    for(var toolbar_ind in mpl.toolbar_items) {\n",
       "        var name = mpl.toolbar_items[toolbar_ind][0];\n",
       "        var tooltip = mpl.toolbar_items[toolbar_ind][1];\n",
       "        var image = mpl.toolbar_items[toolbar_ind][2];\n",
       "        var method_name = mpl.toolbar_items[toolbar_ind][3];\n",
       "\n",
       "        if (!name) {\n",
       "            // put a spacer in here.\n",
       "            continue;\n",
       "        }\n",
       "        var button = $('<button/>');\n",
       "        button.addClass('ui-button ui-widget ui-state-default ui-corner-all ' +\n",
       "                        'ui-button-icon-only');\n",
       "        button.attr('role', 'button');\n",
       "        button.attr('aria-disabled', 'false');\n",
       "        button.click(method_name, toolbar_event);\n",
       "        button.mouseover(tooltip, toolbar_mouse_event);\n",
       "\n",
       "        var icon_img = $('<span/>');\n",
       "        icon_img.addClass('ui-button-icon-primary ui-icon');\n",
       "        icon_img.addClass(image);\n",
       "        icon_img.addClass('ui-corner-all');\n",
       "\n",
       "        var tooltip_span = $('<span/>');\n",
       "        tooltip_span.addClass('ui-button-text');\n",
       "        tooltip_span.html(tooltip);\n",
       "\n",
       "        button.append(icon_img);\n",
       "        button.append(tooltip_span);\n",
       "\n",
       "        nav_element.append(button);\n",
       "    }\n",
       "\n",
       "    var fmt_picker_span = $('<span/>');\n",
       "\n",
       "    var fmt_picker = $('<select/>');\n",
       "    fmt_picker.addClass('mpl-toolbar-option ui-widget ui-widget-content');\n",
       "    fmt_picker_span.append(fmt_picker);\n",
       "    nav_element.append(fmt_picker_span);\n",
       "    this.format_dropdown = fmt_picker[0];\n",
       "\n",
       "    for (var ind in mpl.extensions) {\n",
       "        var fmt = mpl.extensions[ind];\n",
       "        var option = $(\n",
       "            '<option/>', {selected: fmt === mpl.default_extension}).html(fmt);\n",
       "        fmt_picker.append(option);\n",
       "    }\n",
       "\n",
       "    // Add hover states to the ui-buttons\n",
       "    $( \".ui-button\" ).hover(\n",
       "        function() { $(this).addClass(\"ui-state-hover\");},\n",
       "        function() { $(this).removeClass(\"ui-state-hover\");}\n",
       "    );\n",
       "\n",
       "    var status_bar = $('<span class=\"mpl-message\"/>');\n",
       "    nav_element.append(status_bar);\n",
       "    this.message = status_bar[0];\n",
       "}\n",
       "\n",
       "mpl.figure.prototype.request_resize = function(x_pixels, y_pixels) {\n",
       "    // Request matplotlib to resize the figure. Matplotlib will then trigger a resize in the client,\n",
       "    // which will in turn request a refresh of the image.\n",
       "    this.send_message('resize', {'width': x_pixels, 'height': y_pixels});\n",
       "}\n",
       "\n",
       "mpl.figure.prototype.send_message = function(type, properties) {\n",
       "    properties['type'] = type;\n",
       "    properties['figure_id'] = this.id;\n",
       "    this.ws.send(JSON.stringify(properties));\n",
       "}\n",
       "\n",
       "mpl.figure.prototype.send_draw_message = function() {\n",
       "    if (!this.waiting) {\n",
       "        this.waiting = true;\n",
       "        this.ws.send(JSON.stringify({type: \"draw\", figure_id: this.id}));\n",
       "    }\n",
       "}\n",
       "\n",
       "\n",
       "mpl.figure.prototype.handle_save = function(fig, msg) {\n",
       "    var format_dropdown = fig.format_dropdown;\n",
       "    var format = format_dropdown.options[format_dropdown.selectedIndex].value;\n",
       "    fig.ondownload(fig, format);\n",
       "}\n",
       "\n",
       "\n",
       "mpl.figure.prototype.handle_resize = function(fig, msg) {\n",
       "    var size = msg['size'];\n",
       "    if (size[0] != fig.canvas.width || size[1] != fig.canvas.height) {\n",
       "        fig._resize_canvas(size[0], size[1]);\n",
       "        fig.send_message(\"refresh\", {});\n",
       "    };\n",
       "}\n",
       "\n",
       "mpl.figure.prototype.handle_rubberband = function(fig, msg) {\n",
       "    var x0 = msg['x0'] / mpl.ratio;\n",
       "    var y0 = (fig.canvas.height - msg['y0']) / mpl.ratio;\n",
       "    var x1 = msg['x1'] / mpl.ratio;\n",
       "    var y1 = (fig.canvas.height - msg['y1']) / mpl.ratio;\n",
       "    x0 = Math.floor(x0) + 0.5;\n",
       "    y0 = Math.floor(y0) + 0.5;\n",
       "    x1 = Math.floor(x1) + 0.5;\n",
       "    y1 = Math.floor(y1) + 0.5;\n",
       "    var min_x = Math.min(x0, x1);\n",
       "    var min_y = Math.min(y0, y1);\n",
       "    var width = Math.abs(x1 - x0);\n",
       "    var height = Math.abs(y1 - y0);\n",
       "\n",
       "    fig.rubberband_context.clearRect(\n",
       "        0, 0, fig.canvas.width / mpl.ratio, fig.canvas.height / mpl.ratio);\n",
       "\n",
       "    fig.rubberband_context.strokeRect(min_x, min_y, width, height);\n",
       "}\n",
       "\n",
       "mpl.figure.prototype.handle_figure_label = function(fig, msg) {\n",
       "    // Updates the figure title.\n",
       "    fig.header.textContent = msg['label'];\n",
       "}\n",
       "\n",
       "mpl.figure.prototype.handle_cursor = function(fig, msg) {\n",
       "    var cursor = msg['cursor'];\n",
       "    switch(cursor)\n",
       "    {\n",
       "    case 0:\n",
       "        cursor = 'pointer';\n",
       "        break;\n",
       "    case 1:\n",
       "        cursor = 'default';\n",
       "        break;\n",
       "    case 2:\n",
       "        cursor = 'crosshair';\n",
       "        break;\n",
       "    case 3:\n",
       "        cursor = 'move';\n",
       "        break;\n",
       "    }\n",
       "    fig.rubberband_canvas.style.cursor = cursor;\n",
       "}\n",
       "\n",
       "mpl.figure.prototype.handle_message = function(fig, msg) {\n",
       "    fig.message.textContent = msg['message'];\n",
       "}\n",
       "\n",
       "mpl.figure.prototype.handle_draw = function(fig, msg) {\n",
       "    // Request the server to send over a new figure.\n",
       "    fig.send_draw_message();\n",
       "}\n",
       "\n",
       "mpl.figure.prototype.handle_image_mode = function(fig, msg) {\n",
       "    fig.image_mode = msg['mode'];\n",
       "}\n",
       "\n",
       "mpl.figure.prototype.updated_canvas_event = function() {\n",
       "    // Called whenever the canvas gets updated.\n",
       "    this.send_message(\"ack\", {});\n",
       "}\n",
       "\n",
       "// A function to construct a web socket function for onmessage handling.\n",
       "// Called in the figure constructor.\n",
       "mpl.figure.prototype._make_on_message_function = function(fig) {\n",
       "    return function socket_on_message(evt) {\n",
       "        if (evt.data instanceof Blob) {\n",
       "            /* FIXME: We get \"Resource interpreted as Image but\n",
       "             * transferred with MIME type text/plain:\" errors on\n",
       "             * Chrome.  But how to set the MIME type?  It doesn't seem\n",
       "             * to be part of the websocket stream */\n",
       "            evt.data.type = \"image/png\";\n",
       "\n",
       "            /* Free the memory for the previous frames */\n",
       "            if (fig.imageObj.src) {\n",
       "                (window.URL || window.webkitURL).revokeObjectURL(\n",
       "                    fig.imageObj.src);\n",
       "            }\n",
       "\n",
       "            fig.imageObj.src = (window.URL || window.webkitURL).createObjectURL(\n",
       "                evt.data);\n",
       "            fig.updated_canvas_event();\n",
       "            fig.waiting = false;\n",
       "            return;\n",
       "        }\n",
       "        else if (typeof evt.data === 'string' && evt.data.slice(0, 21) == \"data:image/png;base64\") {\n",
       "            fig.imageObj.src = evt.data;\n",
       "            fig.updated_canvas_event();\n",
       "            fig.waiting = false;\n",
       "            return;\n",
       "        }\n",
       "\n",
       "        var msg = JSON.parse(evt.data);\n",
       "        var msg_type = msg['type'];\n",
       "\n",
       "        // Call the  \"handle_{type}\" callback, which takes\n",
       "        // the figure and JSON message as its only arguments.\n",
       "        try {\n",
       "            var callback = fig[\"handle_\" + msg_type];\n",
       "        } catch (e) {\n",
       "            console.log(\"No handler for the '\" + msg_type + \"' message type: \", msg);\n",
       "            return;\n",
       "        }\n",
       "\n",
       "        if (callback) {\n",
       "            try {\n",
       "                // console.log(\"Handling '\" + msg_type + \"' message: \", msg);\n",
       "                callback(fig, msg);\n",
       "            } catch (e) {\n",
       "                console.log(\"Exception inside the 'handler_\" + msg_type + \"' callback:\", e, e.stack, msg);\n",
       "            }\n",
       "        }\n",
       "    };\n",
       "}\n",
       "\n",
       "// from http://stackoverflow.com/questions/1114465/getting-mouse-location-in-canvas\n",
       "mpl.findpos = function(e) {\n",
       "    //this section is from http://www.quirksmode.org/js/events_properties.html\n",
       "    var targ;\n",
       "    if (!e)\n",
       "        e = window.event;\n",
       "    if (e.target)\n",
       "        targ = e.target;\n",
       "    else if (e.srcElement)\n",
       "        targ = e.srcElement;\n",
       "    if (targ.nodeType == 3) // defeat Safari bug\n",
       "        targ = targ.parentNode;\n",
       "\n",
       "    // jQuery normalizes the pageX and pageY\n",
       "    // pageX,Y are the mouse positions relative to the document\n",
       "    // offset() returns the position of the element relative to the document\n",
       "    var x = e.pageX - $(targ).offset().left;\n",
       "    var y = e.pageY - $(targ).offset().top;\n",
       "\n",
       "    return {\"x\": x, \"y\": y};\n",
       "};\n",
       "\n",
       "/*\n",
       " * return a copy of an object with only non-object keys\n",
       " * we need this to avoid circular references\n",
       " * http://stackoverflow.com/a/24161582/3208463\n",
       " */\n",
       "function simpleKeys (original) {\n",
       "  return Object.keys(original).reduce(function (obj, key) {\n",
       "    if (typeof original[key] !== 'object')\n",
       "        obj[key] = original[key]\n",
       "    return obj;\n",
       "  }, {});\n",
       "}\n",
       "\n",
       "mpl.figure.prototype.mouse_event = function(event, name) {\n",
       "    var canvas_pos = mpl.findpos(event)\n",
       "\n",
       "    if (name === 'button_press')\n",
       "    {\n",
       "        this.canvas.focus();\n",
       "        this.canvas_div.focus();\n",
       "    }\n",
       "\n",
       "    var x = canvas_pos.x * mpl.ratio;\n",
       "    var y = canvas_pos.y * mpl.ratio;\n",
       "\n",
       "    this.send_message(name, {x: x, y: y, button: event.button,\n",
       "                             step: event.step,\n",
       "                             guiEvent: simpleKeys(event)});\n",
       "\n",
       "    /* This prevents the web browser from automatically changing to\n",
       "     * the text insertion cursor when the button is pressed.  We want\n",
       "     * to control all of the cursor setting manually through the\n",
       "     * 'cursor' event from matplotlib */\n",
       "    event.preventDefault();\n",
       "    return false;\n",
       "}\n",
       "\n",
       "mpl.figure.prototype._key_event_extra = function(event, name) {\n",
       "    // Handle any extra behaviour associated with a key event\n",
       "}\n",
       "\n",
       "mpl.figure.prototype.key_event = function(event, name) {\n",
       "\n",
       "    // Prevent repeat events\n",
       "    if (name == 'key_press')\n",
       "    {\n",
       "        if (event.which === this._key)\n",
       "            return;\n",
       "        else\n",
       "            this._key = event.which;\n",
       "    }\n",
       "    if (name == 'key_release')\n",
       "        this._key = null;\n",
       "\n",
       "    var value = '';\n",
       "    if (event.ctrlKey && event.which != 17)\n",
       "        value += \"ctrl+\";\n",
       "    if (event.altKey && event.which != 18)\n",
       "        value += \"alt+\";\n",
       "    if (event.shiftKey && event.which != 16)\n",
       "        value += \"shift+\";\n",
       "\n",
       "    value += 'k';\n",
       "    value += event.which.toString();\n",
       "\n",
       "    this._key_event_extra(event, name);\n",
       "\n",
       "    this.send_message(name, {key: value,\n",
       "                             guiEvent: simpleKeys(event)});\n",
       "    return false;\n",
       "}\n",
       "\n",
       "mpl.figure.prototype.toolbar_button_onclick = function(name) {\n",
       "    if (name == 'download') {\n",
       "        this.handle_save(this, null);\n",
       "    } else {\n",
       "        this.send_message(\"toolbar_button\", {name: name});\n",
       "    }\n",
       "};\n",
       "\n",
       "mpl.figure.prototype.toolbar_button_onmouseover = function(tooltip) {\n",
       "    this.message.textContent = tooltip;\n",
       "};\n",
       "mpl.toolbar_items = [[\"Home\", \"Reset original view\", \"fa fa-home icon-home\", \"home\"], [\"Back\", \"Back to previous view\", \"fa fa-arrow-left icon-arrow-left\", \"back\"], [\"Forward\", \"Forward to next view\", \"fa fa-arrow-right icon-arrow-right\", \"forward\"], [\"\", \"\", \"\", \"\"], [\"Pan\", \"Pan axes with left mouse, zoom with right\", \"fa fa-arrows icon-move\", \"pan\"], [\"Zoom\", \"Zoom to rectangle\", \"fa fa-square-o icon-check-empty\", \"zoom\"], [\"\", \"\", \"\", \"\"], [\"Download\", \"Download plot\", \"fa fa-floppy-o icon-save\", \"download\"]];\n",
       "\n",
       "mpl.extensions = [\"eps\", \"jpeg\", \"pdf\", \"png\", \"ps\", \"raw\", \"svg\", \"tif\"];\n",
       "\n",
       "mpl.default_extension = \"png\";var comm_websocket_adapter = function(comm) {\n",
       "    // Create a \"websocket\"-like object which calls the given IPython comm\n",
       "    // object with the appropriate methods. Currently this is a non binary\n",
       "    // socket, so there is still some room for performance tuning.\n",
       "    var ws = {};\n",
       "\n",
       "    ws.close = function() {\n",
       "        comm.close()\n",
       "    };\n",
       "    ws.send = function(m) {\n",
       "        //console.log('sending', m);\n",
       "        comm.send(m);\n",
       "    };\n",
       "    // Register the callback with on_msg.\n",
       "    comm.on_msg(function(msg) {\n",
       "        //console.log('receiving', msg['content']['data'], msg);\n",
       "        // Pass the mpl event to the overridden (by mpl) onmessage function.\n",
       "        ws.onmessage(msg['content']['data'])\n",
       "    });\n",
       "    return ws;\n",
       "}\n",
       "\n",
       "mpl.mpl_figure_comm = function(comm, msg) {\n",
       "    // This is the function which gets called when the mpl process\n",
       "    // starts-up an IPython Comm through the \"matplotlib\" channel.\n",
       "\n",
       "    var id = msg.content.data.id;\n",
       "    // Get hold of the div created by the display call when the Comm\n",
       "    // socket was opened in Python.\n",
       "    var element = $(\"#\" + id);\n",
       "    var ws_proxy = comm_websocket_adapter(comm)\n",
       "\n",
       "    function ondownload(figure, format) {\n",
       "        window.open(figure.imageObj.src);\n",
       "    }\n",
       "\n",
       "    var fig = new mpl.figure(id, ws_proxy,\n",
       "                           ondownload,\n",
       "                           element.get(0));\n",
       "\n",
       "    // Call onopen now - mpl needs it, as it is assuming we've passed it a real\n",
       "    // web socket which is closed, not our websocket->open comm proxy.\n",
       "    ws_proxy.onopen();\n",
       "\n",
       "    fig.parent_element = element.get(0);\n",
       "    fig.cell_info = mpl.find_output_cell(\"<div id='\" + id + \"'></div>\");\n",
       "    if (!fig.cell_info) {\n",
       "        console.error(\"Failed to find cell for figure\", id, fig);\n",
       "        return;\n",
       "    }\n",
       "\n",
       "    var output_index = fig.cell_info[2]\n",
       "    var cell = fig.cell_info[0];\n",
       "\n",
       "};\n",
       "\n",
       "mpl.figure.prototype.handle_close = function(fig, msg) {\n",
       "    var width = fig.canvas.width/mpl.ratio\n",
       "    fig.root.unbind('remove')\n",
       "\n",
       "    // Update the output cell to use the data from the current canvas.\n",
       "    fig.push_to_output();\n",
       "    var dataURL = fig.canvas.toDataURL();\n",
       "    // Re-enable the keyboard manager in IPython - without this line, in FF,\n",
       "    // the notebook keyboard shortcuts fail.\n",
       "    IPython.keyboard_manager.enable()\n",
       "    $(fig.parent_element).html('<img src=\"' + dataURL + '\" width=\"' + width + '\">');\n",
       "    fig.close_ws(fig, msg);\n",
       "}\n",
       "\n",
       "mpl.figure.prototype.close_ws = function(fig, msg){\n",
       "    fig.send_message('closing', msg);\n",
       "    // fig.ws.close()\n",
       "}\n",
       "\n",
       "mpl.figure.prototype.push_to_output = function(remove_interactive) {\n",
       "    // Turn the data on the canvas into data in the output cell.\n",
       "    var width = this.canvas.width/mpl.ratio\n",
       "    var dataURL = this.canvas.toDataURL();\n",
       "    this.cell_info[1]['text/html'] = '<img src=\"' + dataURL + '\" width=\"' + width + '\">';\n",
       "}\n",
       "\n",
       "mpl.figure.prototype.updated_canvas_event = function() {\n",
       "    // Tell IPython that the notebook contents must change.\n",
       "    IPython.notebook.set_dirty(true);\n",
       "    this.send_message(\"ack\", {});\n",
       "    var fig = this;\n",
       "    // Wait a second, then push the new image to the DOM so\n",
       "    // that it is saved nicely (might be nice to debounce this).\n",
       "    setTimeout(function () { fig.push_to_output() }, 1000);\n",
       "}\n",
       "\n",
       "mpl.figure.prototype._init_toolbar = function() {\n",
       "    var fig = this;\n",
       "\n",
       "    var nav_element = $('<div/>');\n",
       "    nav_element.attr('style', 'width: 100%');\n",
       "    this.root.append(nav_element);\n",
       "\n",
       "    // Define a callback function for later on.\n",
       "    function toolbar_event(event) {\n",
       "        return fig.toolbar_button_onclick(event['data']);\n",
       "    }\n",
       "    function toolbar_mouse_event(event) {\n",
       "        return fig.toolbar_button_onmouseover(event['data']);\n",
       "    }\n",
       "\n",
       "    for(var toolbar_ind in mpl.toolbar_items){\n",
       "        var name = mpl.toolbar_items[toolbar_ind][0];\n",
       "        var tooltip = mpl.toolbar_items[toolbar_ind][1];\n",
       "        var image = mpl.toolbar_items[toolbar_ind][2];\n",
       "        var method_name = mpl.toolbar_items[toolbar_ind][3];\n",
       "\n",
       "        if (!name) { continue; };\n",
       "\n",
       "        var button = $('<button class=\"btn btn-default\" href=\"#\" title=\"' + name + '\"><i class=\"fa ' + image + ' fa-lg\"></i></button>');\n",
       "        button.click(method_name, toolbar_event);\n",
       "        button.mouseover(tooltip, toolbar_mouse_event);\n",
       "        nav_element.append(button);\n",
       "    }\n",
       "\n",
       "    // Add the status bar.\n",
       "    var status_bar = $('<span class=\"mpl-message\" style=\"text-align:right; float: right;\"/>');\n",
       "    nav_element.append(status_bar);\n",
       "    this.message = status_bar[0];\n",
       "\n",
       "    // Add the close button to the window.\n",
       "    var buttongrp = $('<div class=\"btn-group inline pull-right\"></div>');\n",
       "    var button = $('<button class=\"btn btn-mini btn-primary\" href=\"#\" title=\"Stop Interaction\"><i class=\"fa fa-power-off icon-remove icon-large\"></i></button>');\n",
       "    button.click(function (evt) { fig.handle_close(fig, {}); } );\n",
       "    button.mouseover('Stop Interaction', toolbar_mouse_event);\n",
       "    buttongrp.append(button);\n",
       "    var titlebar = this.root.find($('.ui-dialog-titlebar'));\n",
       "    titlebar.prepend(buttongrp);\n",
       "}\n",
       "\n",
       "mpl.figure.prototype._root_extra_style = function(el){\n",
       "    var fig = this\n",
       "    el.on(\"remove\", function(){\n",
       "\tfig.close_ws(fig, {});\n",
       "    });\n",
       "}\n",
       "\n",
       "mpl.figure.prototype._canvas_extra_style = function(el){\n",
       "    // this is important to make the div 'focusable\n",
       "    el.attr('tabindex', 0)\n",
       "    // reach out to IPython and tell the keyboard manager to turn it's self\n",
       "    // off when our div gets focus\n",
       "\n",
       "    // location in version 3\n",
       "    if (IPython.notebook.keyboard_manager) {\n",
       "        IPython.notebook.keyboard_manager.register_events(el);\n",
       "    }\n",
       "    else {\n",
       "        // location in version 2\n",
       "        IPython.keyboard_manager.register_events(el);\n",
       "    }\n",
       "\n",
       "}\n",
       "\n",
       "mpl.figure.prototype._key_event_extra = function(event, name) {\n",
       "    var manager = IPython.notebook.keyboard_manager;\n",
       "    if (!manager)\n",
       "        manager = IPython.keyboard_manager;\n",
       "\n",
       "    // Check for shift+enter\n",
       "    if (event.shiftKey && event.which == 13) {\n",
       "        this.canvas_div.blur();\n",
       "        // select the cell after this one\n",
       "        var index = IPython.notebook.find_cell_index(this.cell_info[0]);\n",
       "        IPython.notebook.select(index + 1);\n",
       "    }\n",
       "}\n",
       "\n",
       "mpl.figure.prototype.handle_save = function(fig, msg) {\n",
       "    fig.ondownload(fig, null);\n",
       "}\n",
       "\n",
       "\n",
       "mpl.find_output_cell = function(html_output) {\n",
       "    // Return the cell and output element which can be found *uniquely* in the notebook.\n",
       "    // Note - this is a bit hacky, but it is done because the \"notebook_saving.Notebook\"\n",
       "    // IPython event is triggered only after the cells have been serialised, which for\n",
       "    // our purposes (turning an active figure into a static one), is too late.\n",
       "    var cells = IPython.notebook.get_cells();\n",
       "    var ncells = cells.length;\n",
       "    for (var i=0; i<ncells; i++) {\n",
       "        var cell = cells[i];\n",
       "        if (cell.cell_type === 'code'){\n",
       "            for (var j=0; j<cell.output_area.outputs.length; j++) {\n",
       "                var data = cell.output_area.outputs[j];\n",
       "                if (data.data) {\n",
       "                    // IPython >= 3 moved mimebundle to data attribute of output\n",
       "                    data = data.data;\n",
       "                }\n",
       "                if (data['text/html'] == html_output) {\n",
       "                    return [cell, data, j];\n",
       "                }\n",
       "            }\n",
       "        }\n",
       "    }\n",
       "}\n",
       "\n",
       "// Register the function which deals with the matplotlib target/channel.\n",
       "// The kernel may be null if the page has been refreshed.\n",
       "if (IPython.notebook.kernel != null) {\n",
       "    IPython.notebook.kernel.comm_manager.register_target('matplotlib', mpl.mpl_figure_comm);\n",
       "}\n"
      ],
      "text/plain": [
       "<IPython.core.display.Javascript object>"
      ]
     },
     "metadata": {},
     "output_type": "display_data"
    },
    {
     "data": {
      "text/html": [
       "<img src=\"data:image/png;base64,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\" width=\"782\">"
      ],
      "text/plain": [
       "<IPython.core.display.HTML object>"
      ]
     },
     "metadata": {},
     "output_type": "display_data"
    },
    {
     "data": {
      "application/vnd.jupyter.widget-view+json": {
       "model_id": "8d477c6d4b5c424dbd47fb4c1e9e0df0",
       "version_major": 2,
       "version_minor": 0
      },
      "text/plain": [
       "Textarea(value='[[      -1       -1]\\n [      -1       -1]\\n [      -1       -1]\\n [      -1       -1]\\n [    …"
      ]
     },
     "metadata": {},
     "output_type": "display_data"
    }
   ],
   "source": [
    "# Display image\n",
    "image = Image('images/camera_calib.png', grey=True)\n",
    "fig = matplotlib.pyplot.figure()\n",
    "plt.imshow(image.image, cmap='gray')\n",
    "\n",
    "# Variables, p will contains clicked points, idx contains current point that is being selected\n",
    "p = np.ones((8,2)) * -1\n",
    "idx = 0\n",
    "\n",
    "# Create text area widget to display clicked locations\n",
    "txt = wdg.Textarea(value=str(p), placeholder='', description='Clicked Point:', disabled=False)\n",
    "display(txt)\n",
    "\n",
    "# Code to pick points and display in text widget\n",
    "def onclick(event):\n",
    "    global p, idx\n",
    "    \n",
    "#     txt.value = str(event)\n",
    "    if event.button == 1:\n",
    "        # left mouse click, add point and increment by 1\n",
    "        p[idx, 0] = event.xdata\n",
    "        p[idx, 1] = event.ydata\n",
    "        idx = idx + 1\n",
    "    elif event.button == 3:\n",
    "        # right click, go back to previous point\n",
    "        idx -= 1\n",
    "        p[idx, 0] = -1\n",
    "        p[idx, 1] = -1\n",
    "        \n",
    "    txt.value = str(p) \n",
    "    idx = np.min(np.max(idx, 0), 7) # to keep within bounds\n",
    "    \n",
    "ka = fig.canvas.mpl_connect('button_press_event', onclick)\n"
   ]
  },
  {
   "cell_type": "code",
   "execution_count": 5,
   "metadata": {},
   "outputs": [
    {
     "name": "stdout",
     "output_type": "stream",
     "text": [
      "[[   149.4    246.5    146.4    245.8    391.8    471.7    392.6    473.9]\n",
      " [   119.8    136.4    226.7    231.3    125.8    97.98    228.2    219.2]]\n"
     ]
    }
   ],
   "source": [
    "p = p.T # we actually need a 2 x 8 matrix for the function below, so simply take the transpose\n",
    "print(p)"
   ]
  },
  {
   "cell_type": "markdown",
   "metadata": {},
   "source": [
    "Now estimate the camera matrix, and extract the intrinsic and extrinsic parameters.  Compute the homography and see if you can sensibly map points between image plane and ground plane.\n",
    "\n",
    "**Once you have the camera intrinsic matrix K, revist the Aruco marker exercise from A1 using the proper value of K, and see if the estimates of marker pose agree with what you can measure**"
   ]
  },
  {
   "cell_type": "code",
   "execution_count": 6,
   "metadata": {},
   "outputs": [
    {
     "name": "stdout",
     "output_type": "stream",
     "text": [
      "residual is 1.62 px\n",
      "[[       1        0        0]\n",
      " [       0       -1        0]\n",
      " [       0        0       -1]]\n",
      "[[   573.3        0    307.1]\n",
      " [       0    582.4    240.1]\n",
      " [       0        0        1]]\n"
     ]
    }
   ],
   "source": [
    "C = CentralCamera.camcal(P_calib, p)\n",
    "camera = CentralCamera.invcamcal(C)\n",
    "print(camera.K)"
   ]
  },
  {
   "cell_type": "code",
   "execution_count": null,
   "metadata": {},
   "outputs": [],
   "source": []
  },
  {
   "cell_type": "code",
   "execution_count": null,
   "metadata": {},
   "outputs": [],
   "source": []
  },
  {
   "cell_type": "code",
   "execution_count": null,
   "metadata": {},
   "outputs": [],
   "source": []
  }
 ],
 "metadata": {
  "kernelspec": {
   "display_name": "conda_mxnet_p36",
   "language": "python",
   "name": "conda_mxnet_p36"
  },
  "language_info": {
   "codemirror_mode": {
    "name": "ipython",
    "version": 3
   },
   "file_extension": ".py",
   "mimetype": "text/x-python",
   "name": "python",
   "nbconvert_exporter": "python",
   "pygments_lexer": "ipython3",
   "version": "3.6.10"
  },
  "varInspector": {
   "cols": {
    "lenName": 16,
    "lenType": 16,
    "lenVar": 40
   },
   "kernels_config": {
    "python": {
     "delete_cmd_postfix": "",
     "delete_cmd_prefix": "del ",
     "library": "var_list.py",
     "varRefreshCmd": "print(var_dic_list())"
    },
    "r": {
     "delete_cmd_postfix": ") ",
     "delete_cmd_prefix": "rm(",
     "library": "var_list.r",
     "varRefreshCmd": "cat(var_dic_list()) "
    }
   },
   "types_to_exclude": [
    "module",
    "function",
    "builtin_function_or_method",
    "instance",
    "_Feature"
   ],
   "window_display": false
  }
 },
 "nbformat": 4,
 "nbformat_minor": 4
}
