{
 "cells": [
  {
   "cell_type": "markdown",
   "metadata": {},
   "source": [
    "<table>\n",
    "  <tr>\n",
    "      <td><div align=\"left\"><font size=\"20\" >Central camera projection model</font></div></td>\n",
    "     <td><img src=\"images/RVSS-logo.png\" width=\"400\"></td>\n",
    "  </tr>\n",
    "</table>"
   ]
  },
  {
   "cell_type": "code",
   "execution_count": 3,
   "metadata": {},
   "outputs": [
    {
     "name": "stdout",
     "output_type": "stream",
     "text": [
      "Collecting machinevision-toolbox-python\n",
      "  Downloading machinevision-toolbox-python-0.5.4.tar.gz (92.2 MB)\n",
      "\u001b[K     |████████████████████████████████| 92.2 MB 14 kB/s s eta 0:00:01     |████████▎                       | 24.0 MB 14.3 MB/s eta 0:00:05     |███████████▍                    | 32.8 MB 14.3 MB/s eta 0:00:05     |██████████████▌                 | 41.6 MB 14.3 MB/s eta 0:00:04\n",
      "\u001b[?25hRequirement already satisfied: numpy in /home/ec2-user/anaconda3/envs/mxnet_p36/lib/python3.6/site-packages (from machinevision-toolbox-python) (1.19.4)\n",
      "Requirement already satisfied: scipy in /home/ec2-user/anaconda3/envs/mxnet_p36/lib/python3.6/site-packages (from machinevision-toolbox-python) (1.4.1)\n",
      "Requirement already satisfied: matplotlib in /home/ec2-user/anaconda3/envs/mxnet_p36/lib/python3.6/site-packages (from machinevision-toolbox-python) (3.1.3)\n",
      "Requirement already satisfied: opencv-python in /home/ec2-user/anaconda3/envs/mxnet_p36/lib/python3.6/site-packages (from machinevision-toolbox-python) (4.2.0.32)\n",
      "Collecting ansitable\n",
      "  Downloading ansitable-0.9.5.tar.gz (16 kB)\n",
      "Collecting colored\n",
      "  Downloading colored-1.4.2.tar.gz (56 kB)\n",
      "\u001b[K     |████████████████████████████████| 56 kB 891 kB/s  eta 0:00:01\n",
      "\u001b[?25hRequirement already satisfied: cycler>=0.10 in /home/ec2-user/anaconda3/envs/mxnet_p36/lib/python3.6/site-packages (from matplotlib->machinevision-toolbox-python) (0.10.0)\n",
      "Requirement already satisfied: kiwisolver>=1.0.1 in /home/ec2-user/anaconda3/envs/mxnet_p36/lib/python3.6/site-packages (from matplotlib->machinevision-toolbox-python) (1.1.0)\n",
      "Requirement already satisfied: python-dateutil>=2.1 in /home/ec2-user/anaconda3/envs/mxnet_p36/lib/python3.6/site-packages (from matplotlib->machinevision-toolbox-python) (2.8.1)\n",
      "Requirement already satisfied: pyparsing!=2.0.4,!=2.1.2,!=2.1.6,>=2.0.1 in /home/ec2-user/anaconda3/envs/mxnet_p36/lib/python3.6/site-packages (from matplotlib->machinevision-toolbox-python) (2.4.7)\n",
      "Requirement already satisfied: numpy in /home/ec2-user/anaconda3/envs/mxnet_p36/lib/python3.6/site-packages (from machinevision-toolbox-python) (1.19.4)\n",
      "Requirement already satisfied: six in /home/ec2-user/anaconda3/envs/mxnet_p36/lib/python3.6/site-packages (from cycler>=0.10->matplotlib->machinevision-toolbox-python) (1.15.0)\n",
      "Requirement already satisfied: setuptools in /home/ec2-user/anaconda3/envs/mxnet_p36/lib/python3.6/site-packages (from kiwisolver>=1.0.1->matplotlib->machinevision-toolbox-python) (45.2.0.post20200210)\n",
      "Requirement already satisfied: numpy in /home/ec2-user/anaconda3/envs/mxnet_p36/lib/python3.6/site-packages (from machinevision-toolbox-python) (1.19.4)\n",
      "Requirement already satisfied: six in /home/ec2-user/anaconda3/envs/mxnet_p36/lib/python3.6/site-packages (from cycler>=0.10->matplotlib->machinevision-toolbox-python) (1.15.0)\n",
      "Requirement already satisfied: numpy in /home/ec2-user/anaconda3/envs/mxnet_p36/lib/python3.6/site-packages (from machinevision-toolbox-python) (1.19.4)\n",
      "Collecting spatialmath-python\n",
      "  Downloading spatialmath-python-0.8.8.tar.gz (127 kB)\n",
      "\u001b[K     |████████████████████████████████| 127 kB 80.2 MB/s eta 0:00:01\n",
      "\u001b[?25hRequirement already satisfied: numpy in /home/ec2-user/anaconda3/envs/mxnet_p36/lib/python3.6/site-packages (from machinevision-toolbox-python) (1.19.4)\n",
      "Requirement already satisfied: scipy in /home/ec2-user/anaconda3/envs/mxnet_p36/lib/python3.6/site-packages (from machinevision-toolbox-python) (1.4.1)\n",
      "Requirement already satisfied: matplotlib in /home/ec2-user/anaconda3/envs/mxnet_p36/lib/python3.6/site-packages (from machinevision-toolbox-python) (3.1.3)\n",
      "Building wheels for collected packages: machinevision-toolbox-python, ansitable, colored, spatialmath-python\n",
      "  Building wheel for machinevision-toolbox-python (setup.py) ... \u001b[?25ldone\n",
      "\u001b[?25h  Created wheel for machinevision-toolbox-python: filename=machinevision_toolbox_python-0.5.4-py3-none-any.whl size=92172225 sha256=037da2a00b558541d7f826075da116669ebe8c50be68e4b575a5099f70c5bbe7\n",
      "  Stored in directory: /home/ec2-user/.cache/pip/wheels/e5/a3/78/6f38d9309ff7abfcf5673795ad4b53981bbde23f71532b0fc8\n",
      "  Building wheel for ansitable (setup.py) ... \u001b[?25ldone\n",
      "\u001b[?25h  Created wheel for ansitable: filename=ansitable-0.9.5-py3-none-any.whl size=12174 sha256=61155828c437778e1a20b2c1c4302353fc91c055acc05d851d9dec04ca92f2e4\n",
      "  Stored in directory: /home/ec2-user/.cache/pip/wheels/8a/9f/e2/f14bf0f6f3f68e03cb8c11023a9ac5184cb19070124ec1a76c\n",
      "  Building wheel for colored (setup.py) ... \u001b[?25ldone\n",
      "\u001b[?25h  Created wheel for colored: filename=colored-1.4.2-py3-none-any.whl size=14002 sha256=98bfd3bc4e6f191d91448917fc3f2ef6a36e29f00e9ce3574c3350b137c2e506\n",
      "  Stored in directory: /home/ec2-user/.cache/pip/wheels/b7/be/ae/a98f7701429c3cfcebf4d2b537e48a1571549a4d8b55463a01\n",
      "  Building wheel for spatialmath-python (setup.py) ... \u001b[?25ldone\n",
      "\u001b[?25h  Created wheel for spatialmath-python: filename=spatialmath_python-0.8.8-py3-none-any.whl size=138361 sha256=4add6e146e8e7928bcfd624794e0547c18263a71c16c248951112058cf5b6b34\n",
      "  Stored in directory: /home/ec2-user/.cache/pip/wheels/2a/a0/bb/5828511a67a8377cb10e052d91ed4a212fba4efb24d6003e04\n",
      "Successfully built machinevision-toolbox-python ansitable colored spatialmath-python\n",
      "Installing collected packages: colored, ansitable, spatialmath-python, machinevision-toolbox-python\n",
      "Successfully installed ansitable-0.9.5 colored-1.4.2 machinevision-toolbox-python-0.5.4 spatialmath-python-0.8.8\n",
      "\u001b[33mWARNING: You are using pip version 20.3; however, version 21.0.1 is available.\n",
      "You should consider upgrading via the '/home/ec2-user/anaconda3/envs/mxnet_p36/bin/python -m pip install --upgrade pip' command.\u001b[0m\n"
     ]
    }
   ],
   "source": [
    "%matplotlib notebook\n",
    "\n",
    "import sys\n",
    "!{sys.executable} -m pip install machinevision-toolbox-python\n",
    "\n",
    "import numpy as np\n",
    "import math\n",
    "from spatialmath import SE3\n",
    "from spatialmath.base import e2h, h2e\n",
    "import machinevisiontoolbox as mvtb"
   ]
  },
  {
   "cell_type": "markdown",
   "metadata": {},
   "source": [
    "# From first principles\n",
    "\n",
    "Let's define some parameters of our camera"
   ]
  },
  {
   "cell_type": "code",
   "execution_count": 4,
   "metadata": {},
   "outputs": [],
   "source": [
    "f = 8*1e-3     # focal length in metres\n",
    "rho = 10*1e-6  # pixel side length in metres\n",
    "u0 = 500       # principal point, horizontal coordinate\n",
    "v0 = 500       # principal point, vertical coordinate"
   ]
  },
  {
   "cell_type": "markdown",
   "metadata": {},
   "source": [
    "Next we define some matrices.  \n",
    "\n",
    "The first is a 3x3 _intrinsic_ matrix that contains information about the camera itself:\n",
    "  - focal length of the lens\n",
    "  - pixel size\n",
    "  - the position of the principal point in units of pixels,this is where the _principal ray_ pierces the image plane."
   ]
  },
  {
   "cell_type": "code",
   "execution_count": 5,
   "metadata": {},
   "outputs": [],
   "source": [
    "K = np.array([  [f/rho, 0, u0], \n",
    "                [0, f/rho, v0], \n",
    "                [0, 0, 1]])"
   ]
  },
  {
   "cell_type": "markdown",
   "metadata": {},
   "source": [
    "The next is a 3x4 matrix that performs the projection, reduces the 3D world point to a 2D image plane point"
   ]
  },
  {
   "cell_type": "code",
   "execution_count": 6,
   "metadata": {},
   "outputs": [],
   "source": [
    "P0 = np.array([ [1, 0, 0, 0],\n",
    "                [0, 1, 0, 0],\n",
    "                [0, 0, 1, 0]])"
   ]
  },
  {
   "cell_type": "markdown",
   "metadata": {},
   "source": [
    "Then finally a 4x4 _extrinsic_ matrix_ which says how the camera is positioned and oriented in space. An identity matrix has our camera at the world frame origin and looking along the world z-axis."
   ]
  },
  {
   "cell_type": "code",
   "execution_count": 7,
   "metadata": {},
   "outputs": [],
   "source": [
    "X = np.identity(4)"
   ]
  },
  {
   "cell_type": "markdown",
   "metadata": {},
   "source": [
    "We multiply these three matrices together to form the camera matrix"
   ]
  },
  {
   "cell_type": "code",
   "execution_count": 8,
   "metadata": {},
   "outputs": [],
   "source": [
    "C = K @ P0 @ X"
   ]
  },
  {
   "cell_type": "markdown",
   "metadata": {},
   "source": [
    "The resulting camera matrix is a 3x4 matrix"
   ]
  },
  {
   "cell_type": "code",
   "execution_count": 9,
   "metadata": {},
   "outputs": [
    {
     "data": {
      "text/plain": [
       "(3, 4)"
      ]
     },
     "execution_count": 9,
     "metadata": {},
     "output_type": "execute_result"
    }
   ],
   "source": [
    "C.shape"
   ]
  },
  {
   "cell_type": "markdown",
   "metadata": {},
   "source": [
    "Next we define a point in terms of its 3D coordinates (in units of metres), as a column vector"
   ]
  },
  {
   "cell_type": "code",
   "execution_count": 10,
   "metadata": {},
   "outputs": [],
   "source": [
    "P = np.array([1, -2, 5])"
   ]
  },
  {
   "cell_type": "markdown",
   "metadata": {},
   "source": [
    "To perform the projection we need to convert our 3D coordinate to homogeneous form, which is done by the helper function `e2h`"
   ]
  },
  {
   "cell_type": "code",
   "execution_count": 11,
   "metadata": {},
   "outputs": [
    {
     "data": {
      "text/plain": [
       "array([ 1., -2.,  5.,  1.])"
      ]
     },
     "execution_count": 11,
     "metadata": {},
     "output_type": "execute_result"
    }
   ],
   "source": [
    "e2h(P)"
   ]
  },
  {
   "cell_type": "markdown",
   "metadata": {},
   "source": [
    "Now we can premultiply this by the camera matrix to get the image plane coordinates in homoogeneous form"
   ]
  },
  {
   "cell_type": "code",
   "execution_count": 12,
   "metadata": {},
   "outputs": [
    {
     "data": {
      "text/plain": [
       "array([3300.,  900.,    5.])"
      ]
     },
     "execution_count": 12,
     "metadata": {},
     "output_type": "execute_result"
    }
   ],
   "source": [
    "C @ e2h(P)"
   ]
  },
  {
   "cell_type": "markdown",
   "metadata": {},
   "source": [
    "and we use the helper function `h2e` to convert that back to Euclidean coordinates - the 2D image plane coordinates in units of pixels"
   ]
  },
  {
   "cell_type": "code",
   "execution_count": 13,
   "metadata": {},
   "outputs": [
    {
     "data": {
      "text/plain": [
       "array([660., 180.])"
      ]
     },
     "execution_count": 13,
     "metadata": {},
     "output_type": "execute_result"
    }
   ],
   "source": [
    "h2e( C @ e2h(P) )"
   ]
  },
  {
   "cell_type": "markdown",
   "metadata": {},
   "source": [
    "If we move the point 0.5m in the x-axis direction we see that the u-coordinate in the image plane increases, as we would expect"
   ]
  },
  {
   "cell_type": "code",
   "execution_count": 14,
   "metadata": {},
   "outputs": [
    {
     "data": {
      "text/plain": [
       "array([1060., 1140.])"
      ]
     },
     "execution_count": 14,
     "metadata": {},
     "output_type": "execute_result"
    }
   ],
   "source": [
    "P1 = np.array([3.5, 4, 5])\n",
    "h2e( C @ e2h(P1) )"
   ]
  },
  {
   "cell_type": "markdown",
   "metadata": {},
   "source": [
    "Now we will move the camera 0.5m in the x-axis direction. We do this by setting the top right element of the _extrinsic_ matrix so as to represent a translation of 0.5m.\n",
    "\n",
    "Then we recompute the _camera_ matrix and project our original point onto the image plane of the moved camera.  We see that the u-coordinate has decreased as we would expect - when we move our head to the right the world appears to move to the left."
   ]
  },
  {
   "cell_type": "code",
   "execution_count": 15,
   "metadata": {},
   "outputs": [
    {
     "data": {
      "text/plain": [
       "array([580., 180.])"
      ]
     },
     "execution_count": 15,
     "metadata": {},
     "output_type": "execute_result"
    }
   ],
   "source": [
    "X[0,0] = 0.5\n",
    "C = K @ P0 @ X\n",
    "h2e( C @ e2h(P) )"
   ]
  },
  {
   "cell_type": "markdown",
   "metadata": {},
   "source": [
    "# Using the Toolbox CentralCamera class\n",
    "\n"
   ]
  },
  {
   "cell_type": "code",
   "execution_count": 16,
   "metadata": {},
   "outputs": [
    {
     "name": "stdout",
     "output_type": "stream",
     "text": [
      "           Name: MVTB camera [CentralCamera]\n",
      "     pixel size: 9.999999999999999e-06 x 9.999999999999999e-06\n",
      "     image size: [1000.] x [1000.]\n",
      "           pose: t = 0, 0, 0; rpy/zyx = 0°, 0°, 0°\n",
      "   principal pt: (500.0, 500.0)\n",
      "   focal length: (0.008, 0.008)\n",
      "\n"
     ]
    }
   ],
   "source": [
    "camera = mvtb.CentralCamera(f=f, rho=rho, pp=(u0, v0), imagesize=1000)\n",
    "print(camera)"
   ]
  },
  {
   "cell_type": "markdown",
   "metadata": {},
   "source": [
    "We can very conveniently project points to the image plane"
   ]
  },
  {
   "cell_type": "code",
   "execution_count": 17,
   "metadata": {},
   "outputs": [
    {
     "data": {
      "text/plain": [
       "array([[660., 660.],\n",
       "       [180., 180.]])"
      ]
     },
     "execution_count": 17,
     "metadata": {},
     "output_type": "execute_result"
    }
   ],
   "source": [
    "# appears to be bug in MVTB toolbox cannot pass in a (3,) or (3,1) array for camera.project\n",
    "# so we will simply create a copy of the point to make it a (3,2)\n",
    "P_tmp = np.repeat(P.reshape((3,1)), 2, axis=1) \n",
    "camera.project(P_tmp)"
   ]
  },
  {
   "cell_type": "markdown",
   "metadata": {},
   "source": [
    "and we can plot it on a virtual image plane conveniently by"
   ]
  },
  {
   "cell_type": "code",
   "execution_count": 18,
   "metadata": {},
   "outputs": [
    {
     "name": "stdout",
     "output_type": "stream",
     "text": [
      "creating new figure and axes for camera\n"
     ]
    },
    {
     "data": {
      "application/javascript": [
       "/* Put everything inside the global mpl namespace */\n",
       "window.mpl = {};\n",
       "\n",
       "\n",
       "mpl.get_websocket_type = function() {\n",
       "    if (typeof(WebSocket) !== 'undefined') {\n",
       "        return WebSocket;\n",
       "    } else if (typeof(MozWebSocket) !== 'undefined') {\n",
       "        return MozWebSocket;\n",
       "    } else {\n",
       "        alert('Your browser does not have WebSocket support. ' +\n",
       "              'Please try Chrome, Safari or Firefox ≥ 6. ' +\n",
       "              'Firefox 4 and 5 are also supported but you ' +\n",
       "              'have to enable WebSockets in about:config.');\n",
       "    };\n",
       "}\n",
       "\n",
       "mpl.figure = function(figure_id, websocket, ondownload, parent_element) {\n",
       "    this.id = figure_id;\n",
       "\n",
       "    this.ws = websocket;\n",
       "\n",
       "    this.supports_binary = (this.ws.binaryType != undefined);\n",
       "\n",
       "    if (!this.supports_binary) {\n",
       "        var warnings = document.getElementById(\"mpl-warnings\");\n",
       "        if (warnings) {\n",
       "            warnings.style.display = 'block';\n",
       "            warnings.textContent = (\n",
       "                \"This browser does not support binary websocket messages. \" +\n",
       "                    \"Performance may be slow.\");\n",
       "        }\n",
       "    }\n",
       "\n",
       "    this.imageObj = new Image();\n",
       "\n",
       "    this.context = undefined;\n",
       "    this.message = undefined;\n",
       "    this.canvas = undefined;\n",
       "    this.rubberband_canvas = undefined;\n",
       "    this.rubberband_context = undefined;\n",
       "    this.format_dropdown = undefined;\n",
       "\n",
       "    this.image_mode = 'full';\n",
       "\n",
       "    this.root = $('<div/>');\n",
       "    this._root_extra_style(this.root)\n",
       "    this.root.attr('style', 'display: inline-block');\n",
       "\n",
       "    $(parent_element).append(this.root);\n",
       "\n",
       "    this._init_header(this);\n",
       "    this._init_canvas(this);\n",
       "    this._init_toolbar(this);\n",
       "\n",
       "    var fig = this;\n",
       "\n",
       "    this.waiting = false;\n",
       "\n",
       "    this.ws.onopen =  function () {\n",
       "            fig.send_message(\"supports_binary\", {value: fig.supports_binary});\n",
       "            fig.send_message(\"send_image_mode\", {});\n",
       "            if (mpl.ratio != 1) {\n",
       "                fig.send_message(\"set_dpi_ratio\", {'dpi_ratio': mpl.ratio});\n",
       "            }\n",
       "            fig.send_message(\"refresh\", {});\n",
       "        }\n",
       "\n",
       "    this.imageObj.onload = function() {\n",
       "            if (fig.image_mode == 'full') {\n",
       "                // Full images could contain transparency (where diff images\n",
       "                // almost always do), so we need to clear the canvas so that\n",
       "                // there is no ghosting.\n",
       "                fig.context.clearRect(0, 0, fig.canvas.width, fig.canvas.height);\n",
       "            }\n",
       "            fig.context.drawImage(fig.imageObj, 0, 0);\n",
       "        };\n",
       "\n",
       "    this.imageObj.onunload = function() {\n",
       "        fig.ws.close();\n",
       "    }\n",
       "\n",
       "    this.ws.onmessage = this._make_on_message_function(this);\n",
       "\n",
       "    this.ondownload = ondownload;\n",
       "}\n",
       "\n",
       "mpl.figure.prototype._init_header = function() {\n",
       "    var titlebar = $(\n",
       "        '<div class=\"ui-dialog-titlebar ui-widget-header ui-corner-all ' +\n",
       "        'ui-helper-clearfix\"/>');\n",
       "    var titletext = $(\n",
       "        '<div class=\"ui-dialog-title\" style=\"width: 100%; ' +\n",
       "        'text-align: center; padding: 3px;\"/>');\n",
       "    titlebar.append(titletext)\n",
       "    this.root.append(titlebar);\n",
       "    this.header = titletext[0];\n",
       "}\n",
       "\n",
       "\n",
       "\n",
       "mpl.figure.prototype._canvas_extra_style = function(canvas_div) {\n",
       "\n",
       "}\n",
       "\n",
       "\n",
       "mpl.figure.prototype._root_extra_style = function(canvas_div) {\n",
       "\n",
       "}\n",
       "\n",
       "mpl.figure.prototype._init_canvas = function() {\n",
       "    var fig = this;\n",
       "\n",
       "    var canvas_div = $('<div/>');\n",
       "\n",
       "    canvas_div.attr('style', 'position: relative; clear: both; outline: 0');\n",
       "\n",
       "    function canvas_keyboard_event(event) {\n",
       "        return fig.key_event(event, event['data']);\n",
       "    }\n",
       "\n",
       "    canvas_div.keydown('key_press', canvas_keyboard_event);\n",
       "    canvas_div.keyup('key_release', canvas_keyboard_event);\n",
       "    this.canvas_div = canvas_div\n",
       "    this._canvas_extra_style(canvas_div)\n",
       "    this.root.append(canvas_div);\n",
       "\n",
       "    var canvas = $('<canvas/>');\n",
       "    canvas.addClass('mpl-canvas');\n",
       "    canvas.attr('style', \"left: 0; top: 0; z-index: 0; outline: 0\")\n",
       "\n",
       "    this.canvas = canvas[0];\n",
       "    this.context = canvas[0].getContext(\"2d\");\n",
       "\n",
       "    var backingStore = this.context.backingStorePixelRatio ||\n",
       "\tthis.context.webkitBackingStorePixelRatio ||\n",
       "\tthis.context.mozBackingStorePixelRatio ||\n",
       "\tthis.context.msBackingStorePixelRatio ||\n",
       "\tthis.context.oBackingStorePixelRatio ||\n",
       "\tthis.context.backingStorePixelRatio || 1;\n",
       "\n",
       "    mpl.ratio = (window.devicePixelRatio || 1) / backingStore;\n",
       "\n",
       "    var rubberband = $('<canvas/>');\n",
       "    rubberband.attr('style', \"position: absolute; left: 0; top: 0; z-index: 1;\")\n",
       "\n",
       "    var pass_mouse_events = true;\n",
       "\n",
       "    canvas_div.resizable({\n",
       "        start: function(event, ui) {\n",
       "            pass_mouse_events = false;\n",
       "        },\n",
       "        resize: function(event, ui) {\n",
       "            fig.request_resize(ui.size.width, ui.size.height);\n",
       "        },\n",
       "        stop: function(event, ui) {\n",
       "            pass_mouse_events = true;\n",
       "            fig.request_resize(ui.size.width, ui.size.height);\n",
       "        },\n",
       "    });\n",
       "\n",
       "    function mouse_event_fn(event) {\n",
       "        if (pass_mouse_events)\n",
       "            return fig.mouse_event(event, event['data']);\n",
       "    }\n",
       "\n",
       "    rubberband.mousedown('button_press', mouse_event_fn);\n",
       "    rubberband.mouseup('button_release', mouse_event_fn);\n",
       "    // Throttle sequential mouse events to 1 every 20ms.\n",
       "    rubberband.mousemove('motion_notify', mouse_event_fn);\n",
       "\n",
       "    rubberband.mouseenter('figure_enter', mouse_event_fn);\n",
       "    rubberband.mouseleave('figure_leave', mouse_event_fn);\n",
       "\n",
       "    canvas_div.on(\"wheel\", function (event) {\n",
       "        event = event.originalEvent;\n",
       "        event['data'] = 'scroll'\n",
       "        if (event.deltaY < 0) {\n",
       "            event.step = 1;\n",
       "        } else {\n",
       "            event.step = -1;\n",
       "        }\n",
       "        mouse_event_fn(event);\n",
       "    });\n",
       "\n",
       "    canvas_div.append(canvas);\n",
       "    canvas_div.append(rubberband);\n",
       "\n",
       "    this.rubberband = rubberband;\n",
       "    this.rubberband_canvas = rubberband[0];\n",
       "    this.rubberband_context = rubberband[0].getContext(\"2d\");\n",
       "    this.rubberband_context.strokeStyle = \"#000000\";\n",
       "\n",
       "    this._resize_canvas = function(width, height) {\n",
       "        // Keep the size of the canvas, canvas container, and rubber band\n",
       "        // canvas in synch.\n",
       "        canvas_div.css('width', width)\n",
       "        canvas_div.css('height', height)\n",
       "\n",
       "        canvas.attr('width', width * mpl.ratio);\n",
       "        canvas.attr('height', height * mpl.ratio);\n",
       "        canvas.attr('style', 'width: ' + width + 'px; height: ' + height + 'px;');\n",
       "\n",
       "        rubberband.attr('width', width);\n",
       "        rubberband.attr('height', height);\n",
       "    }\n",
       "\n",
       "    // Set the figure to an initial 600x600px, this will subsequently be updated\n",
       "    // upon first draw.\n",
       "    this._resize_canvas(600, 600);\n",
       "\n",
       "    // Disable right mouse context menu.\n",
       "    $(this.rubberband_canvas).bind(\"contextmenu\",function(e){\n",
       "        return false;\n",
       "    });\n",
       "\n",
       "    function set_focus () {\n",
       "        canvas.focus();\n",
       "        canvas_div.focus();\n",
       "    }\n",
       "\n",
       "    window.setTimeout(set_focus, 100);\n",
       "}\n",
       "\n",
       "mpl.figure.prototype._init_toolbar = function() {\n",
       "    var fig = this;\n",
       "\n",
       "    var nav_element = $('<div/>');\n",
       "    nav_element.attr('style', 'width: 100%');\n",
       "    this.root.append(nav_element);\n",
       "\n",
       "    // Define a callback function for later on.\n",
       "    function toolbar_event(event) {\n",
       "        return fig.toolbar_button_onclick(event['data']);\n",
       "    }\n",
       "    function toolbar_mouse_event(event) {\n",
       "        return fig.toolbar_button_onmouseover(event['data']);\n",
       "    }\n",
       "\n",
       "    for(var toolbar_ind in mpl.toolbar_items) {\n",
       "        var name = mpl.toolbar_items[toolbar_ind][0];\n",
       "        var tooltip = mpl.toolbar_items[toolbar_ind][1];\n",
       "        var image = mpl.toolbar_items[toolbar_ind][2];\n",
       "        var method_name = mpl.toolbar_items[toolbar_ind][3];\n",
       "\n",
       "        if (!name) {\n",
       "            // put a spacer in here.\n",
       "            continue;\n",
       "        }\n",
       "        var button = $('<button/>');\n",
       "        button.addClass('ui-button ui-widget ui-state-default ui-corner-all ' +\n",
       "                        'ui-button-icon-only');\n",
       "        button.attr('role', 'button');\n",
       "        button.attr('aria-disabled', 'false');\n",
       "        button.click(method_name, toolbar_event);\n",
       "        button.mouseover(tooltip, toolbar_mouse_event);\n",
       "\n",
       "        var icon_img = $('<span/>');\n",
       "        icon_img.addClass('ui-button-icon-primary ui-icon');\n",
       "        icon_img.addClass(image);\n",
       "        icon_img.addClass('ui-corner-all');\n",
       "\n",
       "        var tooltip_span = $('<span/>');\n",
       "        tooltip_span.addClass('ui-button-text');\n",
       "        tooltip_span.html(tooltip);\n",
       "\n",
       "        button.append(icon_img);\n",
       "        button.append(tooltip_span);\n",
       "\n",
       "        nav_element.append(button);\n",
       "    }\n",
       "\n",
       "    var fmt_picker_span = $('<span/>');\n",
       "\n",
       "    var fmt_picker = $('<select/>');\n",
       "    fmt_picker.addClass('mpl-toolbar-option ui-widget ui-widget-content');\n",
       "    fmt_picker_span.append(fmt_picker);\n",
       "    nav_element.append(fmt_picker_span);\n",
       "    this.format_dropdown = fmt_picker[0];\n",
       "\n",
       "    for (var ind in mpl.extensions) {\n",
       "        var fmt = mpl.extensions[ind];\n",
       "        var option = $(\n",
       "            '<option/>', {selected: fmt === mpl.default_extension}).html(fmt);\n",
       "        fmt_picker.append(option);\n",
       "    }\n",
       "\n",
       "    // Add hover states to the ui-buttons\n",
       "    $( \".ui-button\" ).hover(\n",
       "        function() { $(this).addClass(\"ui-state-hover\");},\n",
       "        function() { $(this).removeClass(\"ui-state-hover\");}\n",
       "    );\n",
       "\n",
       "    var status_bar = $('<span class=\"mpl-message\"/>');\n",
       "    nav_element.append(status_bar);\n",
       "    this.message = status_bar[0];\n",
       "}\n",
       "\n",
       "mpl.figure.prototype.request_resize = function(x_pixels, y_pixels) {\n",
       "    // Request matplotlib to resize the figure. Matplotlib will then trigger a resize in the client,\n",
       "    // which will in turn request a refresh of the image.\n",
       "    this.send_message('resize', {'width': x_pixels, 'height': y_pixels});\n",
       "}\n",
       "\n",
       "mpl.figure.prototype.send_message = function(type, properties) {\n",
       "    properties['type'] = type;\n",
       "    properties['figure_id'] = this.id;\n",
       "    this.ws.send(JSON.stringify(properties));\n",
       "}\n",
       "\n",
       "mpl.figure.prototype.send_draw_message = function() {\n",
       "    if (!this.waiting) {\n",
       "        this.waiting = true;\n",
       "        this.ws.send(JSON.stringify({type: \"draw\", figure_id: this.id}));\n",
       "    }\n",
       "}\n",
       "\n",
       "\n",
       "mpl.figure.prototype.handle_save = function(fig, msg) {\n",
       "    var format_dropdown = fig.format_dropdown;\n",
       "    var format = format_dropdown.options[format_dropdown.selectedIndex].value;\n",
       "    fig.ondownload(fig, format);\n",
       "}\n",
       "\n",
       "\n",
       "mpl.figure.prototype.handle_resize = function(fig, msg) {\n",
       "    var size = msg['size'];\n",
       "    if (size[0] != fig.canvas.width || size[1] != fig.canvas.height) {\n",
       "        fig._resize_canvas(size[0], size[1]);\n",
       "        fig.send_message(\"refresh\", {});\n",
       "    };\n",
       "}\n",
       "\n",
       "mpl.figure.prototype.handle_rubberband = function(fig, msg) {\n",
       "    var x0 = msg['x0'] / mpl.ratio;\n",
       "    var y0 = (fig.canvas.height - msg['y0']) / mpl.ratio;\n",
       "    var x1 = msg['x1'] / mpl.ratio;\n",
       "    var y1 = (fig.canvas.height - msg['y1']) / mpl.ratio;\n",
       "    x0 = Math.floor(x0) + 0.5;\n",
       "    y0 = Math.floor(y0) + 0.5;\n",
       "    x1 = Math.floor(x1) + 0.5;\n",
       "    y1 = Math.floor(y1) + 0.5;\n",
       "    var min_x = Math.min(x0, x1);\n",
       "    var min_y = Math.min(y0, y1);\n",
       "    var width = Math.abs(x1 - x0);\n",
       "    var height = Math.abs(y1 - y0);\n",
       "\n",
       "    fig.rubberband_context.clearRect(\n",
       "        0, 0, fig.canvas.width / mpl.ratio, fig.canvas.height / mpl.ratio);\n",
       "\n",
       "    fig.rubberband_context.strokeRect(min_x, min_y, width, height);\n",
       "}\n",
       "\n",
       "mpl.figure.prototype.handle_figure_label = function(fig, msg) {\n",
       "    // Updates the figure title.\n",
       "    fig.header.textContent = msg['label'];\n",
       "}\n",
       "\n",
       "mpl.figure.prototype.handle_cursor = function(fig, msg) {\n",
       "    var cursor = msg['cursor'];\n",
       "    switch(cursor)\n",
       "    {\n",
       "    case 0:\n",
       "        cursor = 'pointer';\n",
       "        break;\n",
       "    case 1:\n",
       "        cursor = 'default';\n",
       "        break;\n",
       "    case 2:\n",
       "        cursor = 'crosshair';\n",
       "        break;\n",
       "    case 3:\n",
       "        cursor = 'move';\n",
       "        break;\n",
       "    }\n",
       "    fig.rubberband_canvas.style.cursor = cursor;\n",
       "}\n",
       "\n",
       "mpl.figure.prototype.handle_message = function(fig, msg) {\n",
       "    fig.message.textContent = msg['message'];\n",
       "}\n",
       "\n",
       "mpl.figure.prototype.handle_draw = function(fig, msg) {\n",
       "    // Request the server to send over a new figure.\n",
       "    fig.send_draw_message();\n",
       "}\n",
       "\n",
       "mpl.figure.prototype.handle_image_mode = function(fig, msg) {\n",
       "    fig.image_mode = msg['mode'];\n",
       "}\n",
       "\n",
       "mpl.figure.prototype.updated_canvas_event = function() {\n",
       "    // Called whenever the canvas gets updated.\n",
       "    this.send_message(\"ack\", {});\n",
       "}\n",
       "\n",
       "// A function to construct a web socket function for onmessage handling.\n",
       "// Called in the figure constructor.\n",
       "mpl.figure.prototype._make_on_message_function = function(fig) {\n",
       "    return function socket_on_message(evt) {\n",
       "        if (evt.data instanceof Blob) {\n",
       "            /* FIXME: We get \"Resource interpreted as Image but\n",
       "             * transferred with MIME type text/plain:\" errors on\n",
       "             * Chrome.  But how to set the MIME type?  It doesn't seem\n",
       "             * to be part of the websocket stream */\n",
       "            evt.data.type = \"image/png\";\n",
       "\n",
       "            /* Free the memory for the previous frames */\n",
       "            if (fig.imageObj.src) {\n",
       "                (window.URL || window.webkitURL).revokeObjectURL(\n",
       "                    fig.imageObj.src);\n",
       "            }\n",
       "\n",
       "            fig.imageObj.src = (window.URL || window.webkitURL).createObjectURL(\n",
       "                evt.data);\n",
       "            fig.updated_canvas_event();\n",
       "            fig.waiting = false;\n",
       "            return;\n",
       "        }\n",
       "        else if (typeof evt.data === 'string' && evt.data.slice(0, 21) == \"data:image/png;base64\") {\n",
       "            fig.imageObj.src = evt.data;\n",
       "            fig.updated_canvas_event();\n",
       "            fig.waiting = false;\n",
       "            return;\n",
       "        }\n",
       "\n",
       "        var msg = JSON.parse(evt.data);\n",
       "        var msg_type = msg['type'];\n",
       "\n",
       "        // Call the  \"handle_{type}\" callback, which takes\n",
       "        // the figure and JSON message as its only arguments.\n",
       "        try {\n",
       "            var callback = fig[\"handle_\" + msg_type];\n",
       "        } catch (e) {\n",
       "            console.log(\"No handler for the '\" + msg_type + \"' message type: \", msg);\n",
       "            return;\n",
       "        }\n",
       "\n",
       "        if (callback) {\n",
       "            try {\n",
       "                // console.log(\"Handling '\" + msg_type + \"' message: \", msg);\n",
       "                callback(fig, msg);\n",
       "            } catch (e) {\n",
       "                console.log(\"Exception inside the 'handler_\" + msg_type + \"' callback:\", e, e.stack, msg);\n",
       "            }\n",
       "        }\n",
       "    };\n",
       "}\n",
       "\n",
       "// from http://stackoverflow.com/questions/1114465/getting-mouse-location-in-canvas\n",
       "mpl.findpos = function(e) {\n",
       "    //this section is from http://www.quirksmode.org/js/events_properties.html\n",
       "    var targ;\n",
       "    if (!e)\n",
       "        e = window.event;\n",
       "    if (e.target)\n",
       "        targ = e.target;\n",
       "    else if (e.srcElement)\n",
       "        targ = e.srcElement;\n",
       "    if (targ.nodeType == 3) // defeat Safari bug\n",
       "        targ = targ.parentNode;\n",
       "\n",
       "    // jQuery normalizes the pageX and pageY\n",
       "    // pageX,Y are the mouse positions relative to the document\n",
       "    // offset() returns the position of the element relative to the document\n",
       "    var x = e.pageX - $(targ).offset().left;\n",
       "    var y = e.pageY - $(targ).offset().top;\n",
       "\n",
       "    return {\"x\": x, \"y\": y};\n",
       "};\n",
       "\n",
       "/*\n",
       " * return a copy of an object with only non-object keys\n",
       " * we need this to avoid circular references\n",
       " * http://stackoverflow.com/a/24161582/3208463\n",
       " */\n",
       "function simpleKeys (original) {\n",
       "  return Object.keys(original).reduce(function (obj, key) {\n",
       "    if (typeof original[key] !== 'object')\n",
       "        obj[key] = original[key]\n",
       "    return obj;\n",
       "  }, {});\n",
       "}\n",
       "\n",
       "mpl.figure.prototype.mouse_event = function(event, name) {\n",
       "    var canvas_pos = mpl.findpos(event)\n",
       "\n",
       "    if (name === 'button_press')\n",
       "    {\n",
       "        this.canvas.focus();\n",
       "        this.canvas_div.focus();\n",
       "    }\n",
       "\n",
       "    var x = canvas_pos.x * mpl.ratio;\n",
       "    var y = canvas_pos.y * mpl.ratio;\n",
       "\n",
       "    this.send_message(name, {x: x, y: y, button: event.button,\n",
       "                             step: event.step,\n",
       "                             guiEvent: simpleKeys(event)});\n",
       "\n",
       "    /* This prevents the web browser from automatically changing to\n",
       "     * the text insertion cursor when the button is pressed.  We want\n",
       "     * to control all of the cursor setting manually through the\n",
       "     * 'cursor' event from matplotlib */\n",
       "    event.preventDefault();\n",
       "    return false;\n",
       "}\n",
       "\n",
       "mpl.figure.prototype._key_event_extra = function(event, name) {\n",
       "    // Handle any extra behaviour associated with a key event\n",
       "}\n",
       "\n",
       "mpl.figure.prototype.key_event = function(event, name) {\n",
       "\n",
       "    // Prevent repeat events\n",
       "    if (name == 'key_press')\n",
       "    {\n",
       "        if (event.which === this._key)\n",
       "            return;\n",
       "        else\n",
       "            this._key = event.which;\n",
       "    }\n",
       "    if (name == 'key_release')\n",
       "        this._key = null;\n",
       "\n",
       "    var value = '';\n",
       "    if (event.ctrlKey && event.which != 17)\n",
       "        value += \"ctrl+\";\n",
       "    if (event.altKey && event.which != 18)\n",
       "        value += \"alt+\";\n",
       "    if (event.shiftKey && event.which != 16)\n",
       "        value += \"shift+\";\n",
       "\n",
       "    value += 'k';\n",
       "    value += event.which.toString();\n",
       "\n",
       "    this._key_event_extra(event, name);\n",
       "\n",
       "    this.send_message(name, {key: value,\n",
       "                             guiEvent: simpleKeys(event)});\n",
       "    return false;\n",
       "}\n",
       "\n",
       "mpl.figure.prototype.toolbar_button_onclick = function(name) {\n",
       "    if (name == 'download') {\n",
       "        this.handle_save(this, null);\n",
       "    } else {\n",
       "        this.send_message(\"toolbar_button\", {name: name});\n",
       "    }\n",
       "};\n",
       "\n",
       "mpl.figure.prototype.toolbar_button_onmouseover = function(tooltip) {\n",
       "    this.message.textContent = tooltip;\n",
       "};\n",
       "mpl.toolbar_items = [[\"Home\", \"Reset original view\", \"fa fa-home icon-home\", \"home\"], [\"Back\", \"Back to previous view\", \"fa fa-arrow-left icon-arrow-left\", \"back\"], [\"Forward\", \"Forward to next view\", \"fa fa-arrow-right icon-arrow-right\", \"forward\"], [\"\", \"\", \"\", \"\"], [\"Pan\", \"Pan axes with left mouse, zoom with right\", \"fa fa-arrows icon-move\", \"pan\"], [\"Zoom\", \"Zoom to rectangle\", \"fa fa-square-o icon-check-empty\", \"zoom\"], [\"\", \"\", \"\", \"\"], [\"Download\", \"Download plot\", \"fa fa-floppy-o icon-save\", \"download\"]];\n",
       "\n",
       "mpl.extensions = [\"eps\", \"jpeg\", \"pdf\", \"png\", \"ps\", \"raw\", \"svg\", \"tif\"];\n",
       "\n",
       "mpl.default_extension = \"png\";var comm_websocket_adapter = function(comm) {\n",
       "    // Create a \"websocket\"-like object which calls the given IPython comm\n",
       "    // object with the appropriate methods. Currently this is a non binary\n",
       "    // socket, so there is still some room for performance tuning.\n",
       "    var ws = {};\n",
       "\n",
       "    ws.close = function() {\n",
       "        comm.close()\n",
       "    };\n",
       "    ws.send = function(m) {\n",
       "        //console.log('sending', m);\n",
       "        comm.send(m);\n",
       "    };\n",
       "    // Register the callback with on_msg.\n",
       "    comm.on_msg(function(msg) {\n",
       "        //console.log('receiving', msg['content']['data'], msg);\n",
       "        // Pass the mpl event to the overridden (by mpl) onmessage function.\n",
       "        ws.onmessage(msg['content']['data'])\n",
       "    });\n",
       "    return ws;\n",
       "}\n",
       "\n",
       "mpl.mpl_figure_comm = function(comm, msg) {\n",
       "    // This is the function which gets called when the mpl process\n",
       "    // starts-up an IPython Comm through the \"matplotlib\" channel.\n",
       "\n",
       "    var id = msg.content.data.id;\n",
       "    // Get hold of the div created by the display call when the Comm\n",
       "    // socket was opened in Python.\n",
       "    var element = $(\"#\" + id);\n",
       "    var ws_proxy = comm_websocket_adapter(comm)\n",
       "\n",
       "    function ondownload(figure, format) {\n",
       "        window.open(figure.imageObj.src);\n",
       "    }\n",
       "\n",
       "    var fig = new mpl.figure(id, ws_proxy,\n",
       "                           ondownload,\n",
       "                           element.get(0));\n",
       "\n",
       "    // Call onopen now - mpl needs it, as it is assuming we've passed it a real\n",
       "    // web socket which is closed, not our websocket->open comm proxy.\n",
       "    ws_proxy.onopen();\n",
       "\n",
       "    fig.parent_element = element.get(0);\n",
       "    fig.cell_info = mpl.find_output_cell(\"<div id='\" + id + \"'></div>\");\n",
       "    if (!fig.cell_info) {\n",
       "        console.error(\"Failed to find cell for figure\", id, fig);\n",
       "        return;\n",
       "    }\n",
       "\n",
       "    var output_index = fig.cell_info[2]\n",
       "    var cell = fig.cell_info[0];\n",
       "\n",
       "};\n",
       "\n",
       "mpl.figure.prototype.handle_close = function(fig, msg) {\n",
       "    var width = fig.canvas.width/mpl.ratio\n",
       "    fig.root.unbind('remove')\n",
       "\n",
       "    // Update the output cell to use the data from the current canvas.\n",
       "    fig.push_to_output();\n",
       "    var dataURL = fig.canvas.toDataURL();\n",
       "    // Re-enable the keyboard manager in IPython - without this line, in FF,\n",
       "    // the notebook keyboard shortcuts fail.\n",
       "    IPython.keyboard_manager.enable()\n",
       "    $(fig.parent_element).html('<img src=\"' + dataURL + '\" width=\"' + width + '\">');\n",
       "    fig.close_ws(fig, msg);\n",
       "}\n",
       "\n",
       "mpl.figure.prototype.close_ws = function(fig, msg){\n",
       "    fig.send_message('closing', msg);\n",
       "    // fig.ws.close()\n",
       "}\n",
       "\n",
       "mpl.figure.prototype.push_to_output = function(remove_interactive) {\n",
       "    // Turn the data on the canvas into data in the output cell.\n",
       "    var width = this.canvas.width/mpl.ratio\n",
       "    var dataURL = this.canvas.toDataURL();\n",
       "    this.cell_info[1]['text/html'] = '<img src=\"' + dataURL + '\" width=\"' + width + '\">';\n",
       "}\n",
       "\n",
       "mpl.figure.prototype.updated_canvas_event = function() {\n",
       "    // Tell IPython that the notebook contents must change.\n",
       "    IPython.notebook.set_dirty(true);\n",
       "    this.send_message(\"ack\", {});\n",
       "    var fig = this;\n",
       "    // Wait a second, then push the new image to the DOM so\n",
       "    // that it is saved nicely (might be nice to debounce this).\n",
       "    setTimeout(function () { fig.push_to_output() }, 1000);\n",
       "}\n",
       "\n",
       "mpl.figure.prototype._init_toolbar = function() {\n",
       "    var fig = this;\n",
       "\n",
       "    var nav_element = $('<div/>');\n",
       "    nav_element.attr('style', 'width: 100%');\n",
       "    this.root.append(nav_element);\n",
       "\n",
       "    // Define a callback function for later on.\n",
       "    function toolbar_event(event) {\n",
       "        return fig.toolbar_button_onclick(event['data']);\n",
       "    }\n",
       "    function toolbar_mouse_event(event) {\n",
       "        return fig.toolbar_button_onmouseover(event['data']);\n",
       "    }\n",
       "\n",
       "    for(var toolbar_ind in mpl.toolbar_items){\n",
       "        var name = mpl.toolbar_items[toolbar_ind][0];\n",
       "        var tooltip = mpl.toolbar_items[toolbar_ind][1];\n",
       "        var image = mpl.toolbar_items[toolbar_ind][2];\n",
       "        var method_name = mpl.toolbar_items[toolbar_ind][3];\n",
       "\n",
       "        if (!name) { continue; };\n",
       "\n",
       "        var button = $('<button class=\"btn btn-default\" href=\"#\" title=\"' + name + '\"><i class=\"fa ' + image + ' fa-lg\"></i></button>');\n",
       "        button.click(method_name, toolbar_event);\n",
       "        button.mouseover(tooltip, toolbar_mouse_event);\n",
       "        nav_element.append(button);\n",
       "    }\n",
       "\n",
       "    // Add the status bar.\n",
       "    var status_bar = $('<span class=\"mpl-message\" style=\"text-align:right; float: right;\"/>');\n",
       "    nav_element.append(status_bar);\n",
       "    this.message = status_bar[0];\n",
       "\n",
       "    // Add the close button to the window.\n",
       "    var buttongrp = $('<div class=\"btn-group inline pull-right\"></div>');\n",
       "    var button = $('<button class=\"btn btn-mini btn-primary\" href=\"#\" title=\"Stop Interaction\"><i class=\"fa fa-power-off icon-remove icon-large\"></i></button>');\n",
       "    button.click(function (evt) { fig.handle_close(fig, {}); } );\n",
       "    button.mouseover('Stop Interaction', toolbar_mouse_event);\n",
       "    buttongrp.append(button);\n",
       "    var titlebar = this.root.find($('.ui-dialog-titlebar'));\n",
       "    titlebar.prepend(buttongrp);\n",
       "}\n",
       "\n",
       "mpl.figure.prototype._root_extra_style = function(el){\n",
       "    var fig = this\n",
       "    el.on(\"remove\", function(){\n",
       "\tfig.close_ws(fig, {});\n",
       "    });\n",
       "}\n",
       "\n",
       "mpl.figure.prototype._canvas_extra_style = function(el){\n",
       "    // this is important to make the div 'focusable\n",
       "    el.attr('tabindex', 0)\n",
       "    // reach out to IPython and tell the keyboard manager to turn it's self\n",
       "    // off when our div gets focus\n",
       "\n",
       "    // location in version 3\n",
       "    if (IPython.notebook.keyboard_manager) {\n",
       "        IPython.notebook.keyboard_manager.register_events(el);\n",
       "    }\n",
       "    else {\n",
       "        // location in version 2\n",
       "        IPython.keyboard_manager.register_events(el);\n",
       "    }\n",
       "\n",
       "}\n",
       "\n",
       "mpl.figure.prototype._key_event_extra = function(event, name) {\n",
       "    var manager = IPython.notebook.keyboard_manager;\n",
       "    if (!manager)\n",
       "        manager = IPython.keyboard_manager;\n",
       "\n",
       "    // Check for shift+enter\n",
       "    if (event.shiftKey && event.which == 13) {\n",
       "        this.canvas_div.blur();\n",
       "        // select the cell after this one\n",
       "        var index = IPython.notebook.find_cell_index(this.cell_info[0]);\n",
       "        IPython.notebook.select(index + 1);\n",
       "    }\n",
       "}\n",
       "\n",
       "mpl.figure.prototype.handle_save = function(fig, msg) {\n",
       "    fig.ondownload(fig, null);\n",
       "}\n",
       "\n",
       "\n",
       "mpl.find_output_cell = function(html_output) {\n",
       "    // Return the cell and output element which can be found *uniquely* in the notebook.\n",
       "    // Note - this is a bit hacky, but it is done because the \"notebook_saving.Notebook\"\n",
       "    // IPython event is triggered only after the cells have been serialised, which for\n",
       "    // our purposes (turning an active figure into a static one), is too late.\n",
       "    var cells = IPython.notebook.get_cells();\n",
       "    var ncells = cells.length;\n",
       "    for (var i=0; i<ncells; i++) {\n",
       "        var cell = cells[i];\n",
       "        if (cell.cell_type === 'code'){\n",
       "            for (var j=0; j<cell.output_area.outputs.length; j++) {\n",
       "                var data = cell.output_area.outputs[j];\n",
       "                if (data.data) {\n",
       "                    // IPython >= 3 moved mimebundle to data attribute of output\n",
       "                    data = data.data;\n",
       "                }\n",
       "                if (data['text/html'] == html_output) {\n",
       "                    return [cell, data, j];\n",
       "                }\n",
       "            }\n",
       "        }\n",
       "    }\n",
       "}\n",
       "\n",
       "// Register the function which deals with the matplotlib target/channel.\n",
       "// The kernel may be null if the page has been refreshed.\n",
       "if (IPython.notebook.kernel != null) {\n",
       "    IPython.notebook.kernel.comm_manager.register_target('matplotlib', mpl.mpl_figure_comm);\n",
       "}\n"
      ],
      "text/plain": [
       "<IPython.core.display.Javascript object>"
      ]
     },
     "metadata": {},
     "output_type": "display_data"
    },
    {
     "data": {
      "text/html": [
       "<img src=\"data:image/png;base64,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\" width=\"640\">"
      ],
      "text/plain": [
       "<IPython.core.display.HTML object>"
      ]
     },
     "metadata": {},
     "output_type": "display_data"
    }
   ],
   "source": [
    "camera.plot(P_tmp)"
   ]
  },
  {
   "cell_type": "markdown",
   "metadata": {},
   "source": [
    "We can project the same point, but this time with the camera moved 0.2m in the x-direction"
   ]
  },
  {
   "cell_type": "code",
   "execution_count": null,
   "metadata": {},
   "outputs": [],
   "source": [
    "camera.project(P_tmp, pose=SE3(0.6, 0, 0))"
   ]
  },
  {
   "cell_type": "markdown",
   "metadata": {},
   "source": [
    "and we see that the u-coordinate has decreased.  If we look out along the camera's principal axis then moving the camera to the right causes the image plane point to move to the left.\n",
    "\n",
    "We can extract the intrinsic matrix"
   ]
  },
  {
   "cell_type": "code",
   "execution_count": null,
   "metadata": {},
   "outputs": [],
   "source": [
    "camera.K"
   ]
  },
  {
   "cell_type": "markdown",
   "metadata": {},
   "source": [
    "and the camera matrix"
   ]
  },
  {
   "cell_type": "code",
   "execution_count": null,
   "metadata": {},
   "outputs": [],
   "source": [
    "camera.C"
   ]
  },
  {
   "cell_type": "code",
   "execution_count": null,
   "metadata": {},
   "outputs": [],
   "source": []
  }
 ],
 "metadata": {
  "kernelspec": {
   "display_name": "conda_mxnet_p36",
   "language": "python",
   "name": "conda_mxnet_p36"
  },
  "language_info": {
   "codemirror_mode": {
    "name": "ipython",
    "version": 3
   },
   "file_extension": ".py",
   "mimetype": "text/x-python",
   "name": "python",
   "nbconvert_exporter": "python",
   "pygments_lexer": "ipython3",
   "version": "3.6.10"
  },
  "varInspector": {
   "cols": {
    "lenName": 16,
    "lenType": 16,
    "lenVar": 40
   },
   "kernels_config": {
    "python": {
     "delete_cmd_postfix": "",
     "delete_cmd_prefix": "del ",
     "library": "var_list.py",
     "varRefreshCmd": "print(var_dic_list())"
    },
    "r": {
     "delete_cmd_postfix": ") ",
     "delete_cmd_prefix": "rm(",
     "library": "var_list.r",
     "varRefreshCmd": "cat(var_dic_list()) "
    }
   },
   "types_to_exclude": [
    "module",
    "function",
    "builtin_function_or_method",
    "instance",
    "_Feature"
   ],
   "window_display": false
  }
 },
 "nbformat": 4,
 "nbformat_minor": 2
}
